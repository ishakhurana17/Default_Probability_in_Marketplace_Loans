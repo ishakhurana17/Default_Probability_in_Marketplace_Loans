{
 "cells": [
  {
   "cell_type": "code",
   "execution_count": 1,
   "metadata": {},
   "outputs": [],
   "source": [
    "#importing relevant libraries\n",
    "\n",
    "import pandas as pd\n",
    "import numpy as np\n",
    "import datetime\n",
    "from datetime import date\n",
    "import holidays\n",
    "import warnings\n",
    "import os\n",
    "from sklearn.preprocessing import OneHotEncoder\n",
    "import matplotlib.pyplot as plt\n",
    "import statsmodels.api as sm\n",
    "from sklearn.model_selection import train_test_split\n",
    "from sklearn.linear_model import LogisticRegression\n",
    "from sklearn import metrics\n",
    "import seaborn as sns\n",
    "from sklearn.metrics import confusion_matrix\n",
    "from sklearn.metrics import classification_report\n",
    "from imblearn.over_sampling import SMOTE\n",
    "\n",
    "warnings.filterwarnings('ignore')"
   ]
  },
  {
   "cell_type": "code",
   "execution_count": 2,
   "metadata": {},
   "outputs": [],
   "source": [
    "# importing data\n",
    "accepted_data = pd.read_csv('../data/lc_data/accepted_2007_to_2018Q4.csv')\n",
    "# rejected_data = pd.read_csv('../data/lc_data/rejected_2007_to_2018Q4.csv')"
   ]
  },
  {
   "cell_type": "markdown",
   "metadata": {},
   "source": [
    "### Selecting years\n",
    "The dataset ranges from 2007 to 2018. Since The Lending Club was launched in 2012, there may have been significant changes in its loan portfolios since then."
   ]
  },
  {
   "cell_type": "code",
   "execution_count": 3,
   "metadata": {},
   "outputs": [],
   "source": [
    "# loan issued after 2012\n",
    "accepted_data.term = accepted_data.term.apply(str)\n",
    "accepted_data['term'] = accepted_data['term'].apply(lambda x: x.strip().split(\" \")[0])\n",
    "\n",
    "accepted_data.issue_d = pd.to_datetime(accepted_data.issue_d)\n",
    "accepted_data['issue_yr'] = accepted_data.issue_d.dt.year\n"
   ]
  },
  {
   "cell_type": "code",
   "execution_count": 4,
   "metadata": {},
   "outputs": [
    {
     "data": {
      "text/plain": [
       "<matplotlib.axes._subplots.AxesSubplot at 0x25058fdb588>"
      ]
     },
     "execution_count": 4,
     "metadata": {},
     "output_type": "execute_result"
    },
    {
     "data": {
      "image/png": "[encoded data removed]",
      "text/plain": [
       "<Figure size 432x288 with 1 Axes>"
      ]
     },
     "metadata": {
      "needs_background": "light"
     },
     "output_type": "display_data"
    }
   ],
   "source": [
    "plt.title('Trend of Loans Issued from 2007-2018', fontsize= 15)\n",
    "plt.xlabel('Years')\n",
    "accepted_data['issue_yr'].plot.hist()"
   ]
  },
  {
   "cell_type": "code",
   "execution_count": 5,
   "metadata": {},
   "outputs": [
    {
     "data": {
      "text/plain": [
       "(2260668, 152)"
      ]
     },
     "execution_count": 5,
     "metadata": {},
     "output_type": "execute_result"
    }
   ],
   "source": [
    "accepted_data = accepted_data.dropna(subset=['issue_yr'])\n",
    "accepted_data.shape"
   ]
  },
  {
   "cell_type": "code",
   "execution_count": 6,
   "metadata": {},
   "outputs": [
    {
     "data": {
      "text/plain": [
       "(2113761, 152)"
      ]
     },
     "execution_count": 6,
     "metadata": {},
     "output_type": "execute_result"
    }
   ],
   "source": [
    "accepted_data = accepted_data.dropna(subset=['emp_length'])\n",
    "accepted_data.shape"
   ]
  },
  {
   "cell_type": "code",
   "execution_count": 7,
   "metadata": {},
   "outputs": [
    {
     "data": {
      "text/plain": [
       "array([2015., 2018., 2017., 2016., 2014., 2011., 2010., 2009., 2008.,\n",
       "       2007., 2013., 2012.])"
      ]
     },
     "execution_count": 7,
     "metadata": {},
     "output_type": "execute_result"
    }
   ],
   "source": [
    "accepted_data.issue_yr.unique()"
   ]
  },
  {
   "cell_type": "code",
   "execution_count": 8,
   "metadata": {},
   "outputs": [
    {
     "name": "stdout",
     "output_type": "stream",
     "text": [
      "(2113761, 152)\n",
      "(2072338, 152)\n",
      "[2015. 2018. 2017. 2016. 2014. 2013. 2012.]\n"
     ]
    }
   ],
   "source": [
    "# selecting years from 2012-2018\n",
    "print(accepted_data.shape)\n",
    "accepted_data = accepted_data.loc[(accepted_data['issue_yr'] > 2011)]\n",
    "print(accepted_data.shape)\n",
    "print(accepted_data.issue_yr.unique())"
   ]
  },
  {
   "cell_type": "markdown",
   "metadata": {},
   "source": [
    "It can be seen that the loan issuance started escalating after 2012 when the Lending Club was launched. Moreover, since it is required to analyze data for at least 5 years, I choose to train my model for 2012-2017 and test it for 2018."
   ]
  },
  {
   "cell_type": "markdown",
   "metadata": {},
   "source": [
    "Since the dataset contains both completed and intermidiate loans, for default prediction I would take only the Fully Paid, Charged Off and Default since they are the final state. A loan must either be Fully Paid or be Charged Off/Default (if it takes too long to pay back). A loan payoff can be late but if at the moment of record, it is fully paid then it is fully paid."
   ]
  },
  {
   "cell_type": "code",
   "execution_count": 9,
   "metadata": {},
   "outputs": [
    {
     "name": "stdout",
     "output_type": "stream",
     "text": [
      "(2072338, 152)\n",
      "(1228126, 152)\n",
      "['Fully Paid' 'Charged Off' 'Default']\n"
     ]
    }
   ],
   "source": [
    "# drop all intermediate loans\n",
    "print(accepted_data.shape)\n",
    "accepted_data = accepted_data[(accepted_data.loan_status == 'Fully Paid') |\n",
    "                              (accepted_data.loan_status =='Charged Off') |\n",
    "                              (accepted_data.loan_status == 'Does not meet the credit policy. Status:Fully Paid') |\n",
    "                              (accepted_data.loan_status == 'Does not meet the credit policy. Status:Charged Off') | \n",
    "                              (accepted_data.loan_status == 'Default')]\n",
    "print(accepted_data.shape)\n",
    "print(accepted_data.loan_status.unique())"
   ]
  },
  {
   "cell_type": "markdown",
   "metadata": {},
   "source": [
    "### NOTE\n",
    "The analysis below will be based on loans that are COMPLETED. "
   ]
  },
  {
   "cell_type": "code",
   "execution_count": 10,
   "metadata": {},
   "outputs": [
    {
     "name": "stdout",
     "output_type": "stream",
     "text": [
      "(1228126, 152)\n",
      "(1228126, 135)\n"
     ]
    }
   ],
   "source": [
    "# I decide to drop several columns because they are a linear combination of others, or they contain too little information. \n",
    "# For eg. for Zip Code, we only have the first 3 number so this feature is not helpful.\n",
    "# drop columns mannualy\n",
    "print(accepted_data.shape)\n",
    "accepted_data = accepted_data.drop(['title', 'url', 'desc', 'member_id','out_prncp_inv',\n",
    "                                    'total_pymnt_inv','zip_code','policy_code', 'tax_liens',\n",
    "                                    'tax_liens','sub_grade','debt_settlement_flag', 'application_type', \n",
    "                                    'hardship_flag', 'disbursement_method', 'initial_list_status', 'pymnt_plan',\n",
    "                                    'avg_cur_bal'], axis = 1)\n",
    "\n",
    "print(accepted_data.shape)"
   ]
  },
  {
   "cell_type": "code",
   "execution_count": 11,
   "metadata": {},
   "outputs": [],
   "source": [
    "#drop columns based on threshhold with atleast 20% null values\n",
    "columns_with_atleast_20_percent_NA_values = [column for column in accepted_data if accepted_data[column].count() / len(accepted_data) <= 0.8]"
   ]
  },
  {
   "cell_type": "code",
   "execution_count": 12,
   "metadata": {},
   "outputs": [
    {
     "name": "stdout",
     "output_type": "stream",
     "text": [
      "(1228126, 135)\n",
      "(1228126, 79)\n"
     ]
    }
   ],
   "source": [
    "print(accepted_data.shape)\n",
    "# columns_with_atleast_20_percent_NA_values\n",
    "# print(accepted_sample.shape)\n",
    "accepted_data = accepted_data.drop(columns_with_atleast_20_percent_NA_values, axis=1)\n",
    "\n",
    "print(accepted_data.shape)"
   ]
  },
  {
   "cell_type": "code",
   "execution_count": 114,
   "metadata": {},
   "outputs": [],
   "source": [
    "# accepted_data.info(verbose=True, null_counts = True)"
   ]
  },
  {
   "cell_type": "markdown",
   "metadata": {},
   "source": [
    "After cleaning the dataframe, let's see the description of some of the important variables."
   ]
  },
  {
   "cell_type": "code",
   "execution_count": 14,
   "metadata": {},
   "outputs": [
    {
     "data": {
      "text/html": [
       "<div>\n",
       "<style scoped>\n",
       "    .dataframe tbody tr th:only-of-type {\n",
       "        vertical-align: middle;\n",
       "    }\n",
       "\n",
       "    .dataframe tbody tr th {\n",
       "        vertical-align: top;\n",
       "    }\n",
       "\n",
       "    .dataframe thead th {\n",
       "        text-align: right;\n",
       "    }\n",
       "</style>\n",
       "<table border=\"1\" class=\"dataframe\">\n",
       "  <thead>\n",
       "    <tr style=\"text-align: right;\">\n",
       "      <th></th>\n",
       "      <th>count</th>\n",
       "      <th>mean</th>\n",
       "      <th>std</th>\n",
       "      <th>min</th>\n",
       "      <th>25%</th>\n",
       "      <th>50%</th>\n",
       "      <th>75%</th>\n",
       "      <th>max</th>\n",
       "    </tr>\n",
       "  </thead>\n",
       "  <tbody>\n",
       "    <tr>\n",
       "      <th>loan_amnt</th>\n",
       "      <td>1228126.0</td>\n",
       "      <td>14705.168912</td>\n",
       "      <td>8763.735751</td>\n",
       "      <td>1000.00</td>\n",
       "      <td>8000.00</td>\n",
       "      <td>12500.00</td>\n",
       "      <td>20000.00</td>\n",
       "      <td>40000.00</td>\n",
       "    </tr>\n",
       "    <tr>\n",
       "      <th>funded_amnt</th>\n",
       "      <td>1228126.0</td>\n",
       "      <td>14704.793279</td>\n",
       "      <td>8763.447110</td>\n",
       "      <td>1000.00</td>\n",
       "      <td>8000.00</td>\n",
       "      <td>12500.00</td>\n",
       "      <td>20000.00</td>\n",
       "      <td>40000.00</td>\n",
       "    </tr>\n",
       "    <tr>\n",
       "      <th>int_rate</th>\n",
       "      <td>1228126.0</td>\n",
       "      <td>13.270808</td>\n",
       "      <td>4.794273</td>\n",
       "      <td>5.31</td>\n",
       "      <td>9.75</td>\n",
       "      <td>12.74</td>\n",
       "      <td>16.02</td>\n",
       "      <td>30.99</td>\n",
       "    </tr>\n",
       "    <tr>\n",
       "      <th>annual_inc</th>\n",
       "      <td>1228126.0</td>\n",
       "      <td>78160.485692</td>\n",
       "      <td>71272.694759</td>\n",
       "      <td>0.00</td>\n",
       "      <td>48000.00</td>\n",
       "      <td>65000.00</td>\n",
       "      <td>93000.00</td>\n",
       "      <td>10999200.00</td>\n",
       "    </tr>\n",
       "    <tr>\n",
       "      <th>fico_range_low</th>\n",
       "      <td>1228126.0</td>\n",
       "      <td>695.540714</td>\n",
       "      <td>31.349915</td>\n",
       "      <td>660.00</td>\n",
       "      <td>670.00</td>\n",
       "      <td>690.00</td>\n",
       "      <td>710.00</td>\n",
       "      <td>845.00</td>\n",
       "    </tr>\n",
       "    <tr>\n",
       "      <th>fico_range_high</th>\n",
       "      <td>1228126.0</td>\n",
       "      <td>699.540844</td>\n",
       "      <td>31.350538</td>\n",
       "      <td>664.00</td>\n",
       "      <td>674.00</td>\n",
       "      <td>694.00</td>\n",
       "      <td>714.00</td>\n",
       "      <td>850.00</td>\n",
       "    </tr>\n",
       "    <tr>\n",
       "      <th>installment</th>\n",
       "      <td>1228126.0</td>\n",
       "      <td>446.591825</td>\n",
       "      <td>263.125163</td>\n",
       "      <td>4.93</td>\n",
       "      <td>255.14</td>\n",
       "      <td>382.55</td>\n",
       "      <td>592.73</td>\n",
       "      <td>1719.83</td>\n",
       "    </tr>\n",
       "  </tbody>\n",
       "</table>\n",
       "</div>"
      ],
      "text/plain": [
       "                     count          mean           std      min       25%  \\\n",
       "loan_amnt        1228126.0  14705.168912   8763.735751  1000.00   8000.00   \n",
       "funded_amnt      1228126.0  14704.793279   8763.447110  1000.00   8000.00   \n",
       "int_rate         1228126.0     13.270808      4.794273     5.31      9.75   \n",
       "annual_inc       1228126.0  78160.485692  71272.694759     0.00  48000.00   \n",
       "fico_range_low   1228126.0    695.540714     31.349915   660.00    670.00   \n",
       "fico_range_high  1228126.0    699.540844     31.350538   664.00    674.00   \n",
       "installment      1228126.0    446.591825    263.125163     4.93    255.14   \n",
       "\n",
       "                      50%       75%          max  \n",
       "loan_amnt        12500.00  20000.00     40000.00  \n",
       "funded_amnt      12500.00  20000.00     40000.00  \n",
       "int_rate            12.74     16.02        30.99  \n",
       "annual_inc       65000.00  93000.00  10999200.00  \n",
       "fico_range_low     690.00    710.00       845.00  \n",
       "fico_range_high    694.00    714.00       850.00  \n",
       "installment        382.55    592.73      1719.83  "
      ]
     },
     "execution_count": 14,
     "metadata": {},
     "output_type": "execute_result"
    }
   ],
   "source": [
    "# descriptive statistics for numeric variables\n",
    "numeric_variables = ['loan_amnt','funded_amnt','int_rate', 'annual_inc', 'fico_range_low','fico_range_high', 'installment']\n",
    "accepted_data[numeric_variables].describe().transpose()"
   ]
  },
  {
   "cell_type": "code",
   "execution_count": 15,
   "metadata": {},
   "outputs": [
    {
     "data": {
      "text/html": [
       "<div>\n",
       "<style scoped>\n",
       "    .dataframe tbody tr th:only-of-type {\n",
       "        vertical-align: middle;\n",
       "    }\n",
       "\n",
       "    .dataframe tbody tr th {\n",
       "        vertical-align: top;\n",
       "    }\n",
       "\n",
       "    .dataframe thead th {\n",
       "        text-align: right;\n",
       "    }\n",
       "</style>\n",
       "<table border=\"1\" class=\"dataframe\">\n",
       "  <thead>\n",
       "    <tr style=\"text-align: right;\">\n",
       "      <th></th>\n",
       "      <th>count</th>\n",
       "      <th>unique</th>\n",
       "      <th>top</th>\n",
       "      <th>freq</th>\n",
       "    </tr>\n",
       "  </thead>\n",
       "  <tbody>\n",
       "    <tr>\n",
       "      <th>grade</th>\n",
       "      <td>1228126</td>\n",
       "      <td>7</td>\n",
       "      <td>B</td>\n",
       "      <td>358326</td>\n",
       "    </tr>\n",
       "    <tr>\n",
       "      <th>id</th>\n",
       "      <td>1228126</td>\n",
       "      <td>1228126</td>\n",
       "      <td>14680062</td>\n",
       "      <td>1</td>\n",
       "    </tr>\n",
       "    <tr>\n",
       "      <th>term</th>\n",
       "      <td>1228126</td>\n",
       "      <td>2</td>\n",
       "      <td>36</td>\n",
       "      <td>926277</td>\n",
       "    </tr>\n",
       "    <tr>\n",
       "      <th>emp_title</th>\n",
       "      <td>1221711</td>\n",
       "      <td>356748</td>\n",
       "      <td>Teacher</td>\n",
       "      <td>21263</td>\n",
       "    </tr>\n",
       "    <tr>\n",
       "      <th>emp_length</th>\n",
       "      <td>1228126</td>\n",
       "      <td>11</td>\n",
       "      <td>10+ years</td>\n",
       "      <td>433310</td>\n",
       "    </tr>\n",
       "    <tr>\n",
       "      <th>home_ownership</th>\n",
       "      <td>1228126</td>\n",
       "      <td>6</td>\n",
       "      <td>MORTGAGE</td>\n",
       "      <td>612051</td>\n",
       "    </tr>\n",
       "    <tr>\n",
       "      <th>verification_status</th>\n",
       "      <td>1228126</td>\n",
       "      <td>3</td>\n",
       "      <td>Source Verified</td>\n",
       "      <td>496310</td>\n",
       "    </tr>\n",
       "    <tr>\n",
       "      <th>loan_status</th>\n",
       "      <td>1228126</td>\n",
       "      <td>3</td>\n",
       "      <td>Fully Paid</td>\n",
       "      <td>986102</td>\n",
       "    </tr>\n",
       "    <tr>\n",
       "      <th>purpose</th>\n",
       "      <td>1228126</td>\n",
       "      <td>14</td>\n",
       "      <td>debt_consolidation</td>\n",
       "      <td>719314</td>\n",
       "    </tr>\n",
       "    <tr>\n",
       "      <th>addr_state</th>\n",
       "      <td>1228126</td>\n",
       "      <td>51</td>\n",
       "      <td>CA</td>\n",
       "      <td>179406</td>\n",
       "    </tr>\n",
       "  </tbody>\n",
       "</table>\n",
       "</div>"
      ],
      "text/plain": [
       "                       count   unique                 top    freq\n",
       "grade                1228126        7                   B  358326\n",
       "id                   1228126  1228126            14680062       1\n",
       "term                 1228126        2                  36  926277\n",
       "emp_title            1221711   356748             Teacher   21263\n",
       "emp_length           1228126       11           10+ years  433310\n",
       "home_ownership       1228126        6            MORTGAGE  612051\n",
       "verification_status  1228126        3     Source Verified  496310\n",
       "loan_status          1228126        3          Fully Paid  986102\n",
       "purpose              1228126       14  debt_consolidation  719314\n",
       "addr_state           1228126       51                  CA  179406"
      ]
     },
     "execution_count": 15,
     "metadata": {},
     "output_type": "execute_result"
    }
   ],
   "source": [
    "# descriptive statistics for categorical variables\n",
    "categorical_variables = ['grade', 'id', 'term', 'emp_title', 'emp_length', 'home_ownership', 'verification_status', \n",
    "                         'loan_status', 'purpose', 'addr_state' ]\n",
    "accepted_data[categorical_variables].describe().transpose()        "
   ]
  },
  {
   "cell_type": "markdown",
   "metadata": {},
   "source": [
    "**Rest of the variables will be chosen based on EDA or own understanding of data for the model.**"
   ]
  },
  {
   "cell_type": "code",
   "execution_count": 16,
   "metadata": {},
   "outputs": [],
   "source": [
    "# looking at only defaulted loans:\n",
    "default_categories = ['Default', 'Charged Off']\n",
    "\n",
    "# logistic regression variable default\n",
    "# Default is 1 \n",
    "# No default is 0\n",
    "def get_default_status(loan_status):\n",
    "    if loan_status in default_categories:\n",
    "        return 1\n",
    "    else:\n",
    "        return 0"
   ]
  },
  {
   "cell_type": "code",
   "execution_count": 17,
   "metadata": {},
   "outputs": [],
   "source": [
    "accepted_data['default_logit'] = accepted_data['loan_status'].apply(get_default_status)"
   ]
  },
  {
   "cell_type": "code",
   "execution_count": 18,
   "metadata": {},
   "outputs": [
    {
     "data": {
      "text/plain": [
       "(1228126, 80)"
      ]
     },
     "execution_count": 18,
     "metadata": {},
     "output_type": "execute_result"
    }
   ],
   "source": [
    "accepted_data.shape"
   ]
  },
  {
   "cell_type": "markdown",
   "metadata": {},
   "source": [
    "**Performing EDA on the dataset**"
   ]
  },
  {
   "cell_type": "code",
   "execution_count": 19,
   "metadata": {},
   "outputs": [
    {
     "name": "stdout",
     "output_type": "stream",
     "text": [
      "Loan Issuance based on Employment Length in years\n",
      "10    433310\n",
      "2     117357\n",
      "3     103504\n",
      "0     103475\n",
      "1      85248\n",
      "5      80868\n",
      "4      77114\n",
      "6      60504\n",
      "8      59219\n",
      "7      57849\n",
      "9      49678\n",
      "Name: emp_length, dtype: int64\n"
     ]
    }
   ],
   "source": [
    "# I transform a few variables into the date type for easier analysis later\n",
    "\n",
    "accepted_data.home_ownership = accepted_data.home_ownership.replace(['ANY', 'NONE','OTHER'], 'RENT')\n",
    "\n",
    "\n",
    "accepted_data['issue_yr'] = pd.DatetimeIndex(accepted_data['issue_d']).year\n",
    "# accepted_data['earliest_cr_line'] = pd.to_datetime(accepted_data.earliest_cr_line)\n",
    "# accepted_data['early_cr_yr'] = accepted_data.earliest_cr_line.dt.year\n",
    "\n",
    "# median_year = accepted_data.emp_length.value_counts(ascending = False).index[0]\n",
    "# accepted_data.loc[:, 'emp_length'] = accepted_data.loc[:, 'emp_length'].fillna(median_year)\n",
    "\n",
    "accepted_data.emp_length = accepted_data.emp_length.replace(['10+ years'], '10 years')\n",
    "accepted_data.emp_length = accepted_data.emp_length.replace(['< 1 year'], '0 years')\n",
    "\n",
    "accepted_data.emp_length = accepted_data.emp_length.apply(lambda x: int(str(x).split(' ')[0]))\n",
    "print('Loan Issuance based on Employment Length in years')\n",
    "print(accepted_data.emp_length.value_counts())"
   ]
  },
  {
   "cell_type": "code",
   "execution_count": 20,
   "metadata": {},
   "outputs": [
    {
     "data": {
      "text/plain": [
       "306873"
      ]
     },
     "execution_count": 20,
     "metadata": {},
     "output_type": "execute_result"
    }
   ],
   "source": [
    "accepted_data.loc[:, 'emp_title'] = accepted_data.loc[:, 'emp_title'].fillna('other')\n",
    "accepted_data.emp_title = accepted_data.emp_title.apply(lambda x: x.lower())\n",
    "accepted_data.emp_title = accepted_data.emp_title.replace(['lpn','registered nurse', 'rn'], 'nurse')\n",
    "accepted_data.emp_title.nunique()"
   ]
  },
  {
   "cell_type": "markdown",
   "metadata": {},
   "source": [
    "Since there are 306873 unique employment titles, therefore it cannot be efficiently used for modelling. Hence remove it."
   ]
  },
  {
   "cell_type": "code",
   "execution_count": 21,
   "metadata": {},
   "outputs": [
    {
     "data": {
      "text/plain": [
       "Fully Paid     986102\n",
       "Charged Off    241989\n",
       "Default            35\n",
       "Name: loan_status, dtype: int64"
      ]
     },
     "execution_count": 21,
     "metadata": {},
     "output_type": "execute_result"
    }
   ],
   "source": [
    "# loan statuses\n",
    "# accepted_data['loan_status'].unique()\n",
    "accepted_data.loan_status.value_counts()"
   ]
  },
  {
   "cell_type": "markdown",
   "metadata": {},
   "source": [
    "Change of rates through time\n",
    "Each loan receives a grade that ranges from G through A. Starting November 2017, grade F and G are no longer used. These codes will plot the average interest rate according to grate through time."
   ]
  },
  {
   "cell_type": "code",
   "execution_count": 22,
   "metadata": {},
   "outputs": [
    {
     "data": {
      "text/plain": [
       "Text(0.5, 0.98, 'Interest Rate over time and grade')"
      ]
     },
     "execution_count": 22,
     "metadata": {},
     "output_type": "execute_result"
    },
    {
     "data": {
      "image/png": "[encoded data removed]",
      "text/plain": [
       "<Figure size 864x432 with 7 Axes>"
      ]
     },
     "metadata": {
      "needs_background": "light"
     },
     "output_type": "display_data"
    }
   ],
   "source": [
    "rate = pd.pivot_table(accepted_data[accepted_data['term'] == '36'],\n",
    "                      index=[\"grade\",\"issue_yr\"],values=[\"int_rate\"], aggfunc=np.mean)\n",
    "rate = rate.reset_index()\n",
    "\n",
    "g = sns.FacetGrid(rate, col = 'grade', col_wrap = 4)\n",
    "g = g.map(sns.pointplot, \"issue_yr\", \"int_rate\")\n",
    "\n",
    "labels = np.arange(2012, 2018, 1)\n",
    "labels = [str(i) for i in labels]\n",
    "g = g.set_xticklabels(labels, rotation=70)\n",
    "g = g.set_ylabels(\"7yr interest rate\")\n",
    "\n",
    "plt.subplots_adjust(top=0.9)\n",
    "g.fig.suptitle('Interest Rate over time and grade', fontsize= 15)"
   ]
  },
  {
   "cell_type": "markdown",
   "metadata": {},
   "source": [
    "We can see that interest rate for grade D, E, F, G increase quickly from 2014.\n",
    "\n",
    "We have very few data points from 2012 to 2014. Let's take a closer look to see if this increase in average rate is not due to the small number of observations."
   ]
  },
  {
   "cell_type": "code",
   "execution_count": 23,
   "metadata": {},
   "outputs": [
    {
     "data": {
      "text/html": [
       "<div>\n",
       "<style scoped>\n",
       "    .dataframe tbody tr th:only-of-type {\n",
       "        vertical-align: middle;\n",
       "    }\n",
       "\n",
       "    .dataframe tbody tr th {\n",
       "        vertical-align: top;\n",
       "    }\n",
       "\n",
       "    .dataframe thead tr th {\n",
       "        text-align: left;\n",
       "    }\n",
       "\n",
       "    .dataframe thead tr:last-of-type th {\n",
       "        text-align: right;\n",
       "    }\n",
       "</style>\n",
       "<table border=\"1\" class=\"dataframe\">\n",
       "  <thead>\n",
       "    <tr>\n",
       "      <th></th>\n",
       "      <th colspan=\"7\" halign=\"left\">int_rate</th>\n",
       "    </tr>\n",
       "    <tr>\n",
       "      <th>grade</th>\n",
       "      <th>A</th>\n",
       "      <th>B</th>\n",
       "      <th>C</th>\n",
       "      <th>D</th>\n",
       "      <th>E</th>\n",
       "      <th>F</th>\n",
       "      <th>G</th>\n",
       "    </tr>\n",
       "    <tr>\n",
       "      <th>issue_yr</th>\n",
       "      <th></th>\n",
       "      <th></th>\n",
       "      <th></th>\n",
       "      <th></th>\n",
       "      <th></th>\n",
       "      <th></th>\n",
       "      <th></th>\n",
       "    </tr>\n",
       "  </thead>\n",
       "  <tbody>\n",
       "    <tr>\n",
       "      <th>2012</th>\n",
       "      <td>10265</td>\n",
       "      <td>16140</td>\n",
       "      <td>9541</td>\n",
       "      <td>4910</td>\n",
       "      <td>760</td>\n",
       "      <td>101</td>\n",
       "      <td>24</td>\n",
       "    </tr>\n",
       "    <tr>\n",
       "      <th>2013</th>\n",
       "      <td>16354</td>\n",
       "      <td>38431</td>\n",
       "      <td>23368</td>\n",
       "      <td>13694</td>\n",
       "      <td>3013</td>\n",
       "      <td>553</td>\n",
       "      <td>14</td>\n",
       "    </tr>\n",
       "    <tr>\n",
       "      <th>2014</th>\n",
       "      <td>33877</td>\n",
       "      <td>50604</td>\n",
       "      <td>41162</td>\n",
       "      <td>18925</td>\n",
       "      <td>6410</td>\n",
       "      <td>1786</td>\n",
       "      <td>160</td>\n",
       "    </tr>\n",
       "    <tr>\n",
       "      <th>2015</th>\n",
       "      <td>66362</td>\n",
       "      <td>85937</td>\n",
       "      <td>72000</td>\n",
       "      <td>29782</td>\n",
       "      <td>8569</td>\n",
       "      <td>1195</td>\n",
       "      <td>221</td>\n",
       "    </tr>\n",
       "    <tr>\n",
       "      <th>2016</th>\n",
       "      <td>44364</td>\n",
       "      <td>75160</td>\n",
       "      <td>61852</td>\n",
       "      <td>25372</td>\n",
       "      <td>7138</td>\n",
       "      <td>1715</td>\n",
       "      <td>402</td>\n",
       "    </tr>\n",
       "    <tr>\n",
       "      <th>2017</th>\n",
       "      <td>24594</td>\n",
       "      <td>37821</td>\n",
       "      <td>34780</td>\n",
       "      <td>15168</td>\n",
       "      <td>4853</td>\n",
       "      <td>919</td>\n",
       "      <td>485</td>\n",
       "    </tr>\n",
       "    <tr>\n",
       "      <th>2018</th>\n",
       "      <td>11272</td>\n",
       "      <td>10787</td>\n",
       "      <td>8967</td>\n",
       "      <td>5191</td>\n",
       "      <td>1208</td>\n",
       "      <td>54</td>\n",
       "      <td>17</td>\n",
       "    </tr>\n",
       "  </tbody>\n",
       "</table>\n",
       "</div>"
      ],
      "text/plain": [
       "         int_rate                                      \n",
       "grade           A      B      C      D     E     F    G\n",
       "issue_yr                                               \n",
       "2012        10265  16140   9541   4910   760   101   24\n",
       "2013        16354  38431  23368  13694  3013   553   14\n",
       "2014        33877  50604  41162  18925  6410  1786  160\n",
       "2015        66362  85937  72000  29782  8569  1195  221\n",
       "2016        44364  75160  61852  25372  7138  1715  402\n",
       "2017        24594  37821  34780  15168  4853   919  485\n",
       "2018        11272  10787   8967   5191  1208    54   17"
      ]
     },
     "execution_count": 23,
     "metadata": {},
     "output_type": "execute_result"
    }
   ],
   "source": [
    "# Number of observations for each grade\n",
    "# to verify the variance of rates\n",
    "rate_count = pd.pivot_table(accepted_data[accepted_data['term'] == '36'],\n",
    "                            index=[\"grade\",\"issue_yr\"],values=[\"int_rate\"], aggfunc='count')\n",
    "rate_count = rate_count.unstack('grade')\n",
    "rate_count\n",
    "\n",
    "# The number of loans has increased almost exponentially since inception (which is actually 2007)"
   ]
  },
  {
   "cell_type": "code",
   "execution_count": 27,
   "metadata": {},
   "outputs": [
    {
     "name": "stdout",
     "output_type": "stream",
     "text": [
      "Number of loans issued categorised by its purpose\n",
      "debt_consolidation    719314\n",
      "credit_card           272407\n",
      "home_improvement       78368\n",
      "other                  68411\n",
      "major_purchase         25658\n",
      "medical                13585\n",
      "small_business         13191\n",
      "car                    12283\n",
      "moving                  8325\n",
      "vacation                8020\n",
      "house                   6455\n",
      "wedding                 1327\n",
      "renewable_energy         781\n",
      "educational                1\n",
      "Name: purpose, dtype: int64\n"
     ]
    }
   ],
   "source": [
    "# Borrowing purpose\n",
    "print('Number of loans issued categorised by its purpose')\n",
    "print(accepted_data.purpose.value_counts().sort_values(ascending=False))"
   ]
  },
  {
   "cell_type": "code",
   "execution_count": 28,
   "metadata": {},
   "outputs": [
    {
     "data": {
      "text/html": [
       "<div>\n",
       "<style scoped>\n",
       "    .dataframe tbody tr th:only-of-type {\n",
       "        vertical-align: middle;\n",
       "    }\n",
       "\n",
       "    .dataframe tbody tr th {\n",
       "        vertical-align: top;\n",
       "    }\n",
       "\n",
       "    .dataframe thead th {\n",
       "        text-align: right;\n",
       "    }\n",
       "</style>\n",
       "<table border=\"1\" class=\"dataframe\">\n",
       "  <thead>\n",
       "    <tr style=\"text-align: right;\">\n",
       "      <th></th>\n",
       "      <th>annual_inc</th>\n",
       "    </tr>\n",
       "    <tr>\n",
       "      <th>grade</th>\n",
       "      <th></th>\n",
       "    </tr>\n",
       "  </thead>\n",
       "  <tbody>\n",
       "    <tr>\n",
       "      <th>A</th>\n",
       "      <td>78000.0</td>\n",
       "    </tr>\n",
       "    <tr>\n",
       "      <th>B</th>\n",
       "      <td>66000.0</td>\n",
       "    </tr>\n",
       "    <tr>\n",
       "      <th>C</th>\n",
       "      <td>63500.0</td>\n",
       "    </tr>\n",
       "    <tr>\n",
       "      <th>D</th>\n",
       "      <td>60000.0</td>\n",
       "    </tr>\n",
       "    <tr>\n",
       "      <th>E</th>\n",
       "      <td>63000.0</td>\n",
       "    </tr>\n",
       "    <tr>\n",
       "      <th>F</th>\n",
       "      <td>65000.0</td>\n",
       "    </tr>\n",
       "    <tr>\n",
       "      <th>G</th>\n",
       "      <td>66500.0</td>\n",
       "    </tr>\n",
       "  </tbody>\n",
       "</table>\n",
       "</div>"
      ],
      "text/plain": [
       "       annual_inc\n",
       "grade            \n",
       "A         78000.0\n",
       "B         66000.0\n",
       "C         63500.0\n",
       "D         60000.0\n",
       "E         63000.0\n",
       "F         65000.0\n",
       "G         66500.0"
      ]
     },
     "execution_count": 28,
     "metadata": {},
     "output_type": "execute_result"
    }
   ],
   "source": [
    "# Median of incomes in each grade\n",
    "income_median = pd.pivot_table(accepted_data, values = 'annual_inc', index = 'grade', aggfunc = np.median)\n",
    "income_median"
   ]
  },
  {
   "cell_type": "code",
   "execution_count": 29,
   "metadata": {},
   "outputs": [
    {
     "name": "stdout",
     "output_type": "stream",
     "text": [
      "   default_logit    annual_inc\n",
      "0              0  79514.267396\n",
      "1              1  72644.640792\n"
     ]
    },
    {
     "data": {
      "image/png": "[encoded data removed]",
      "text/plain": [
       "<Figure size 432x288 with 1 Axes>"
      ]
     },
     "metadata": {
      "needs_background": "light"
     },
     "output_type": "display_data"
    }
   ],
   "source": [
    "# EDA\n",
    "a = pd.pivot_table(accepted_data, values = 'annual_inc', index = 'default_logit', aggfunc = np.mean)\n",
    "print(accepted_data[['annual_inc','default_logit']].groupby(['default_logit'], as_index=False).mean())\n",
    "\n",
    "average_income_and_default = accepted_data[['annual_inc', 'default_logit']].groupby(['default_logit']).mean().plot(kind='bar')\n",
    "average_income_and_default.set_xticklabels(('No Default', 'Default'))\n",
    "plt.title('Average Annual Income for Default & No Default', fontsize= 15)\n",
    "plt.show()"
   ]
  },
  {
   "cell_type": "code",
   "execution_count": 31,
   "metadata": {},
   "outputs": [
    {
     "name": "stdout",
     "output_type": "stream",
     "text": [
      "   State  Default_cases  Total_issued  Perct_default\n",
      "12    IA              1             2      50.000000\n",
      "25    MS           1536          6035      25.451533\n",
      "29    NE            832          3402      24.456202\n",
      "2     AR           2140          8933      23.956118\n",
      "36    OK           2609         11218      23.257265\n",
      "1     AL           3464         14927      23.206271\n",
      "   State  Default_cases  Total_issued  Perct_default\n",
      "30    NH            850          5961      14.259352\n",
      "37    OR           2052         14785      13.878931\n",
      "46    VT            333          2448      13.602941\n",
      "7     DC            413          3151      13.106950\n",
      "21    ME            238          1853      12.844037\n"
     ]
    }
   ],
   "source": [
    "# statewise analysis of default\n",
    "\n",
    "df_state_wise_default = accepted_data[['addr_state','default_logit']].groupby(['addr_state'], as_index=False).sum()\n",
    "df_state_wise_loan_issued = accepted_data.groupby('addr_state',  as_index=False)['issue_yr'].agg('count')\n",
    "df_state_wise_default = pd.merge(df_state_wise_default, df_state_wise_loan_issued, on='addr_state')\n",
    "df_state_wise_default['perct_default'] = df_state_wise_default['default_logit']/df_state_wise_default['issue_yr']*100\n",
    "# df_state_wise_default = df_state_wise_default['perct_default'].round(2)\n",
    "\n",
    "df_state_wise_default.columns = ['State', 'Default_cases', 'Total_issued','Perct_default']\n",
    "df_state_wise_default.sort_values(by=['Perct_default'], inplace=True, ascending=False)\n",
    "print(df_state_wise_default.head(6))\n",
    "print(df_state_wise_default.tail())"
   ]
  },
  {
   "cell_type": "code",
   "execution_count": 32,
   "metadata": {},
   "outputs": [
    {
     "data": {
      "text/html": [
       "<div>\n",
       "<style scoped>\n",
       "    .dataframe tbody tr th:only-of-type {\n",
       "        vertical-align: middle;\n",
       "    }\n",
       "\n",
       "    .dataframe tbody tr th {\n",
       "        vertical-align: top;\n",
       "    }\n",
       "\n",
       "    .dataframe thead th {\n",
       "        text-align: right;\n",
       "    }\n",
       "</style>\n",
       "<table border=\"1\" class=\"dataframe\">\n",
       "  <thead>\n",
       "    <tr style=\"text-align: right;\">\n",
       "      <th></th>\n",
       "      <th>default_logit</th>\n",
       "      <th>fico_range_low</th>\n",
       "      <th>fico_range_high</th>\n",
       "    </tr>\n",
       "  </thead>\n",
       "  <tbody>\n",
       "    <tr>\n",
       "      <th>0</th>\n",
       "      <td>0</td>\n",
       "      <td>697.560141</td>\n",
       "      <td>701.560292</td>\n",
       "    </tr>\n",
       "    <tr>\n",
       "      <th>1</th>\n",
       "      <td>1</td>\n",
       "      <td>687.312767</td>\n",
       "      <td>691.312812</td>\n",
       "    </tr>\n",
       "  </tbody>\n",
       "</table>\n",
       "</div>"
      ],
      "text/plain": [
       "   default_logit  fico_range_low  fico_range_high\n",
       "0              0      697.560141       701.560292\n",
       "1              1      687.312767       691.312812"
      ]
     },
     "execution_count": 32,
     "metadata": {},
     "output_type": "execute_result"
    }
   ],
   "source": [
    "fico_mean = accepted_data.groupby('default_logit', as_index=False)['fico_range_low', 'fico_range_high'].mean()\n",
    "fico_mean"
   ]
  },
  {
   "cell_type": "code",
   "execution_count": 33,
   "metadata": {},
   "outputs": [
    {
     "data": {
      "image/png": "[encoded data removed]",
      "text/plain": [
       "<Figure size 432x288 with 1 Axes>"
      ]
     },
     "metadata": {
      "needs_background": "light"
     },
     "output_type": "display_data"
    }
   ],
   "source": [
    "# average FICO scores for default and no default\n",
    "from matplotlib.ticker import ScalarFormatter\n",
    "\n",
    "data = [[687, 697], [691, 701]]\n",
    "df = pd.DataFrame(data, columns=['Default', 'No Default'])\n",
    "df.plot.bar()\n",
    "plt.ylabel('FICO Scores')\n",
    "plt.yscale(\"log\")\n",
    "plt.gca().yaxis.set_major_formatter(ScalarFormatter(useMathText=False))\n",
    "plt.title('Average FICO scores for Default & No Default', fontsize= 15)\n",
    "x_ticks = ('fico_range_high', 'fico_range_low')\n",
    "y_ticks = np.arange(688,702,2)\n",
    "position = np.arange(len(x_ticks))\n",
    "plt.xticks(position, x_ticks)\n",
    "plt.yticks(y_ticks)\n",
    "plt.show()"
   ]
  },
  {
   "cell_type": "code",
   "execution_count": 34,
   "metadata": {},
   "outputs": [
    {
     "name": "stdout",
     "output_type": "stream",
     "text": [
      "  Term  Default_cases  Total_issued  Perct_default\n",
      "0   36         144244        926277      15.572448\n",
      "1   60          97780        301849      32.393680\n"
     ]
    },
    {
     "data": {
      "image/png": "[encoded data removed]",
      "text/plain": [
       "<Figure size 432x288 with 1 Axes>"
      ]
     },
     "metadata": {
      "needs_background": "light"
     },
     "output_type": "display_data"
    }
   ],
   "source": [
    "# Term wise default\n",
    "accepted_data.term.unique()\n",
    "term_count = accepted_data.groupby('term', as_index=False)['default_logit'].count()\n",
    "term_count\n",
    "\n",
    "\n",
    "df_term_wise_default = accepted_data[['term','default_logit']].groupby(['term'], as_index=False).sum()\n",
    "df_term_wise_loan_issued = accepted_data.groupby('term',  as_index=False)['issue_yr'].agg('count')\n",
    "df_term_wise_default = pd.merge(df_term_wise_default, df_term_wise_loan_issued, on='term')\n",
    "df_term_wise_default['perct_term_default'] = df_term_wise_default['default_logit']/df_term_wise_default['issue_yr']*100\n",
    "\n",
    "df_term_wise_default.columns = ['Term', 'Default_cases', 'Total_issued','Perct_default']\n",
    "print(df_term_wise_default)\n",
    "\n",
    "fig = plt.figure()\n",
    "ax = fig.add_axes([0,0,1,1])\n",
    "term = df_term_wise_default['Term'].to_list()\n",
    "percent = df_term_wise_default['Perct_default'].to_list()\n",
    "ax.bar(term,percent, width=0.6, color='orange')\n",
    "plt.title('Percentage of Default & No Default cases by Term', fontsize= 15)\n",
    "plt.xlabel('Term (in months)')\n",
    "plt.show()"
   ]
  },
  {
   "cell_type": "code",
   "execution_count": 37,
   "metadata": {},
   "outputs": [
    {
     "data": {
      "text/plain": [
       "default_logit    7\n",
       "dtype: int64"
      ]
     },
     "execution_count": 37,
     "metadata": {},
     "output_type": "execute_result"
    }
   ],
   "source": [
    "\n",
    "accepted_data[['grade','default_logit']].groupby(['grade']).agg('count').nunique()\n",
    "# df_term_wise_loan_issued = accepted_data.groupby('term',  as_index=False)['issue_yr'].agg('count')"
   ]
  },
  {
   "cell_type": "code",
   "execution_count": 42,
   "metadata": {},
   "outputs": [
    {
     "data": {
      "text/html": [
       "<div>\n",
       "<style scoped>\n",
       "    .dataframe tbody tr th:only-of-type {\n",
       "        vertical-align: middle;\n",
       "    }\n",
       "\n",
       "    .dataframe tbody tr th {\n",
       "        vertical-align: top;\n",
       "    }\n",
       "\n",
       "    .dataframe thead tr th {\n",
       "        text-align: left;\n",
       "    }\n",
       "\n",
       "    .dataframe thead tr:last-of-type th {\n",
       "        text-align: right;\n",
       "    }\n",
       "</style>\n",
       "<table border=\"1\" class=\"dataframe\">\n",
       "  <thead>\n",
       "    <tr>\n",
       "      <th></th>\n",
       "      <th colspan=\"7\" halign=\"left\">int_rate</th>\n",
       "    </tr>\n",
       "    <tr>\n",
       "      <th>grade</th>\n",
       "      <th>A</th>\n",
       "      <th>B</th>\n",
       "      <th>C</th>\n",
       "      <th>D</th>\n",
       "      <th>E</th>\n",
       "      <th>F</th>\n",
       "      <th>G</th>\n",
       "    </tr>\n",
       "    <tr>\n",
       "      <th>issue_yr</th>\n",
       "      <th></th>\n",
       "      <th></th>\n",
       "      <th></th>\n",
       "      <th></th>\n",
       "      <th></th>\n",
       "      <th></th>\n",
       "      <th></th>\n",
       "    </tr>\n",
       "  </thead>\n",
       "  <tbody>\n",
       "    <tr>\n",
       "      <th>2012</th>\n",
       "      <td>10265</td>\n",
       "      <td>16140</td>\n",
       "      <td>9541</td>\n",
       "      <td>4910</td>\n",
       "      <td>760</td>\n",
       "      <td>101</td>\n",
       "      <td>24</td>\n",
       "    </tr>\n",
       "    <tr>\n",
       "      <th>2013</th>\n",
       "      <td>16354</td>\n",
       "      <td>38431</td>\n",
       "      <td>23368</td>\n",
       "      <td>13694</td>\n",
       "      <td>3013</td>\n",
       "      <td>553</td>\n",
       "      <td>14</td>\n",
       "    </tr>\n",
       "    <tr>\n",
       "      <th>2014</th>\n",
       "      <td>33877</td>\n",
       "      <td>50604</td>\n",
       "      <td>41162</td>\n",
       "      <td>18925</td>\n",
       "      <td>6410</td>\n",
       "      <td>1786</td>\n",
       "      <td>160</td>\n",
       "    </tr>\n",
       "    <tr>\n",
       "      <th>2015</th>\n",
       "      <td>66362</td>\n",
       "      <td>85937</td>\n",
       "      <td>72000</td>\n",
       "      <td>29782</td>\n",
       "      <td>8569</td>\n",
       "      <td>1195</td>\n",
       "      <td>221</td>\n",
       "    </tr>\n",
       "    <tr>\n",
       "      <th>2016</th>\n",
       "      <td>44364</td>\n",
       "      <td>75160</td>\n",
       "      <td>61852</td>\n",
       "      <td>25372</td>\n",
       "      <td>7138</td>\n",
       "      <td>1715</td>\n",
       "      <td>402</td>\n",
       "    </tr>\n",
       "    <tr>\n",
       "      <th>2017</th>\n",
       "      <td>24594</td>\n",
       "      <td>37821</td>\n",
       "      <td>34780</td>\n",
       "      <td>15168</td>\n",
       "      <td>4853</td>\n",
       "      <td>919</td>\n",
       "      <td>485</td>\n",
       "    </tr>\n",
       "    <tr>\n",
       "      <th>2018</th>\n",
       "      <td>11272</td>\n",
       "      <td>10787</td>\n",
       "      <td>8967</td>\n",
       "      <td>5191</td>\n",
       "      <td>1208</td>\n",
       "      <td>54</td>\n",
       "      <td>17</td>\n",
       "    </tr>\n",
       "  </tbody>\n",
       "</table>\n",
       "</div>"
      ],
      "text/plain": [
       "         int_rate                                      \n",
       "grade           A      B      C      D     E     F    G\n",
       "issue_yr                                               \n",
       "2012        10265  16140   9541   4910   760   101   24\n",
       "2013        16354  38431  23368  13694  3013   553   14\n",
       "2014        33877  50604  41162  18925  6410  1786  160\n",
       "2015        66362  85937  72000  29782  8569  1195  221\n",
       "2016        44364  75160  61852  25372  7138  1715  402\n",
       "2017        24594  37821  34780  15168  4853   919  485\n",
       "2018        11272  10787   8967   5191  1208    54   17"
      ]
     },
     "execution_count": 42,
     "metadata": {},
     "output_type": "execute_result"
    }
   ],
   "source": [
    "# Number of observations for each grade\n",
    "# to verify the variance of rates\n",
    "rate_count = pd.pivot_table(accepted_data[accepted_data['term'] == '36'],\n",
    "                            index=[\"grade\",\"issue_yr\"],values=[\"int_rate\"], aggfunc='count')\n",
    "rate_count = rate_count.unstack('grade')\n",
    "rate_count\n",
    "\n",
    "# The number of loans has increased almost exponentially since inception (which is actually 2007)"
   ]
  },
  {
   "cell_type": "code",
   "execution_count": 51,
   "metadata": {},
   "outputs": [
    {
     "data": {
      "text/html": [
       "<div>\n",
       "<style scoped>\n",
       "    .dataframe tbody tr th:only-of-type {\n",
       "        vertical-align: middle;\n",
       "    }\n",
       "\n",
       "    .dataframe tbody tr th {\n",
       "        vertical-align: top;\n",
       "    }\n",
       "\n",
       "    .dataframe thead th {\n",
       "        text-align: right;\n",
       "    }\n",
       "</style>\n",
       "<table border=\"1\" class=\"dataframe\">\n",
       "  <thead>\n",
       "    <tr style=\"text-align: right;\">\n",
       "      <th></th>\n",
       "      <th>default_logit</th>\n",
       "      <th>grade</th>\n",
       "      <th>count</th>\n",
       "    </tr>\n",
       "  </thead>\n",
       "  <tbody>\n",
       "    <tr>\n",
       "      <th>0</th>\n",
       "      <td>0</td>\n",
       "      <td>A</td>\n",
       "      <td>200475</td>\n",
       "    </tr>\n",
       "    <tr>\n",
       "      <th>1</th>\n",
       "      <td>0</td>\n",
       "      <td>B</td>\n",
       "      <td>311707</td>\n",
       "    </tr>\n",
       "    <tr>\n",
       "      <th>2</th>\n",
       "      <td>0</td>\n",
       "      <td>C</td>\n",
       "      <td>273490</td>\n",
       "    </tr>\n",
       "    <tr>\n",
       "      <th>3</th>\n",
       "      <td>0</td>\n",
       "      <td>D</td>\n",
       "      <td>127722</td>\n",
       "    </tr>\n",
       "    <tr>\n",
       "      <th>4</th>\n",
       "      <td>0</td>\n",
       "      <td>E</td>\n",
       "      <td>52489</td>\n",
       "    </tr>\n",
       "    <tr>\n",
       "      <th>5</th>\n",
       "      <td>0</td>\n",
       "      <td>F</td>\n",
       "      <td>16052</td>\n",
       "    </tr>\n",
       "    <tr>\n",
       "      <th>6</th>\n",
       "      <td>0</td>\n",
       "      <td>G</td>\n",
       "      <td>4167</td>\n",
       "    </tr>\n",
       "    <tr>\n",
       "      <th>7</th>\n",
       "      <td>1</td>\n",
       "      <td>A</td>\n",
       "      <td>12239</td>\n",
       "    </tr>\n",
       "    <tr>\n",
       "      <th>8</th>\n",
       "      <td>1</td>\n",
       "      <td>B</td>\n",
       "      <td>46619</td>\n",
       "    </tr>\n",
       "    <tr>\n",
       "      <th>9</th>\n",
       "      <td>1</td>\n",
       "      <td>C</td>\n",
       "      <td>77543</td>\n",
       "    </tr>\n",
       "    <tr>\n",
       "      <th>10</th>\n",
       "      <td>1</td>\n",
       "      <td>D</td>\n",
       "      <td>55129</td>\n",
       "    </tr>\n",
       "    <tr>\n",
       "      <th>11</th>\n",
       "      <td>1</td>\n",
       "      <td>E</td>\n",
       "      <td>32984</td>\n",
       "    </tr>\n",
       "    <tr>\n",
       "      <th>12</th>\n",
       "      <td>1</td>\n",
       "      <td>F</td>\n",
       "      <td>13307</td>\n",
       "    </tr>\n",
       "    <tr>\n",
       "      <th>13</th>\n",
       "      <td>1</td>\n",
       "      <td>G</td>\n",
       "      <td>4203</td>\n",
       "    </tr>\n",
       "  </tbody>\n",
       "</table>\n",
       "</div>"
      ],
      "text/plain": [
       "    default_logit grade   count\n",
       "0               0     A  200475\n",
       "1               0     B  311707\n",
       "2               0     C  273490\n",
       "3               0     D  127722\n",
       "4               0     E   52489\n",
       "5               0     F   16052\n",
       "6               0     G    4167\n",
       "7               1     A   12239\n",
       "8               1     B   46619\n",
       "9               1     C   77543\n",
       "10              1     D   55129\n",
       "11              1     E   32984\n",
       "12              1     F   13307\n",
       "13              1     G    4203"
      ]
     },
     "execution_count": 51,
     "metadata": {},
     "output_type": "execute_result"
    }
   ],
   "source": [
    "grade_count = accepted_data.groupby(['default_logit', 'grade'], as_index=False)['id'].count()\n",
    "grade_count.columns = ['default_logit', 'grade', 'count']\n",
    "grade_count"
   ]
  },
  {
   "cell_type": "code",
   "execution_count": 53,
   "metadata": {},
   "outputs": [],
   "source": [
    "# keeping only required columns for regression\n",
    "final_coulumns = ['loan_amnt', 'term', 'int_rate','default_logit','grade', 'emp_length', 'annual_inc',\n",
    "                  'home_ownership', 'verification_status', 'purpose', 'issue_yr', 'mort_acc', 'fico_range_low', \n",
    "                  'fico_range_high', 'pub_rec']\n",
    "\n",
    "loan_analysis_columns =  ['loan_amnt', 'term', 'int_rate','default_logit','grade', 'emp_length', 'annual_inc',\n",
    "                          'home_ownership', 'verification_status', 'purpose', 'issue_yr', 'total_rec_prncp', \n",
    "                          'funded_amnt', 'last_pymnt_d', 'issue_d', 'total_rec_int', 'total_pymnt',\n",
    "                          'installment', 'last_pymnt_amnt']"
   ]
  },
  {
   "cell_type": "code",
   "execution_count": 54,
   "metadata": {},
   "outputs": [
    {
     "name": "stdout",
     "output_type": "stream",
     "text": [
      "(1228126, 15)\n"
     ]
    }
   ],
   "source": [
    "final_accepted_data = accepted_data[final_coulumns]\n",
    "print(final_accepted_data.shape)\n"
   ]
  },
  {
   "cell_type": "code",
   "execution_count": 55,
   "metadata": {},
   "outputs": [
    {
     "data": {
      "text/html": [
       "<div>\n",
       "<style scoped>\n",
       "    .dataframe tbody tr th:only-of-type {\n",
       "        vertical-align: middle;\n",
       "    }\n",
       "\n",
       "    .dataframe tbody tr th {\n",
       "        vertical-align: top;\n",
       "    }\n",
       "\n",
       "    .dataframe thead th {\n",
       "        text-align: right;\n",
       "    }\n",
       "</style>\n",
       "<table border=\"1\" class=\"dataframe\">\n",
       "  <thead>\n",
       "    <tr style=\"text-align: right;\">\n",
       "      <th></th>\n",
       "      <th>count</th>\n",
       "      <th>mean</th>\n",
       "      <th>std</th>\n",
       "      <th>min</th>\n",
       "      <th>25%</th>\n",
       "      <th>50%</th>\n",
       "      <th>75%</th>\n",
       "      <th>max</th>\n",
       "    </tr>\n",
       "  </thead>\n",
       "  <tbody>\n",
       "    <tr>\n",
       "      <th>loan_amnt</th>\n",
       "      <td>1228126.0</td>\n",
       "      <td>14705.168912</td>\n",
       "      <td>8763.735751</td>\n",
       "      <td>1000.00</td>\n",
       "      <td>8000.00</td>\n",
       "      <td>12500.00</td>\n",
       "      <td>20000.00</td>\n",
       "      <td>40000.00</td>\n",
       "    </tr>\n",
       "    <tr>\n",
       "      <th>int_rate</th>\n",
       "      <td>1228126.0</td>\n",
       "      <td>13.270808</td>\n",
       "      <td>4.794273</td>\n",
       "      <td>5.31</td>\n",
       "      <td>9.75</td>\n",
       "      <td>12.74</td>\n",
       "      <td>16.02</td>\n",
       "      <td>30.99</td>\n",
       "    </tr>\n",
       "    <tr>\n",
       "      <th>default_logit</th>\n",
       "      <td>1228126.0</td>\n",
       "      <td>0.197068</td>\n",
       "      <td>0.397784</td>\n",
       "      <td>0.00</td>\n",
       "      <td>0.00</td>\n",
       "      <td>0.00</td>\n",
       "      <td>0.00</td>\n",
       "      <td>1.00</td>\n",
       "    </tr>\n",
       "    <tr>\n",
       "      <th>emp_length</th>\n",
       "      <td>1228126.0</td>\n",
       "      <td>5.997097</td>\n",
       "      <td>3.690814</td>\n",
       "      <td>0.00</td>\n",
       "      <td>3.00</td>\n",
       "      <td>6.00</td>\n",
       "      <td>10.00</td>\n",
       "      <td>10.00</td>\n",
       "    </tr>\n",
       "    <tr>\n",
       "      <th>annual_inc</th>\n",
       "      <td>1228126.0</td>\n",
       "      <td>78160.485692</td>\n",
       "      <td>71272.694759</td>\n",
       "      <td>0.00</td>\n",
       "      <td>48000.00</td>\n",
       "      <td>65000.00</td>\n",
       "      <td>93000.00</td>\n",
       "      <td>10999200.00</td>\n",
       "    </tr>\n",
       "    <tr>\n",
       "      <th>issue_yr</th>\n",
       "      <td>1228126.0</td>\n",
       "      <td>2015.097067</td>\n",
       "      <td>1.439194</td>\n",
       "      <td>2012.00</td>\n",
       "      <td>2014.00</td>\n",
       "      <td>2015.00</td>\n",
       "      <td>2016.00</td>\n",
       "      <td>2018.00</td>\n",
       "    </tr>\n",
       "    <tr>\n",
       "      <th>mort_acc</th>\n",
       "      <td>1220893.0</td>\n",
       "      <td>1.663097</td>\n",
       "      <td>1.996105</td>\n",
       "      <td>0.00</td>\n",
       "      <td>0.00</td>\n",
       "      <td>1.00</td>\n",
       "      <td>3.00</td>\n",
       "      <td>51.00</td>\n",
       "    </tr>\n",
       "    <tr>\n",
       "      <th>fico_range_low</th>\n",
       "      <td>1228126.0</td>\n",
       "      <td>695.540714</td>\n",
       "      <td>31.349915</td>\n",
       "      <td>660.00</td>\n",
       "      <td>670.00</td>\n",
       "      <td>690.00</td>\n",
       "      <td>710.00</td>\n",
       "      <td>845.00</td>\n",
       "    </tr>\n",
       "    <tr>\n",
       "      <th>fico_range_high</th>\n",
       "      <td>1228126.0</td>\n",
       "      <td>699.540844</td>\n",
       "      <td>31.350538</td>\n",
       "      <td>664.00</td>\n",
       "      <td>674.00</td>\n",
       "      <td>694.00</td>\n",
       "      <td>714.00</td>\n",
       "      <td>850.00</td>\n",
       "    </tr>\n",
       "    <tr>\n",
       "      <th>pub_rec</th>\n",
       "      <td>1228126.0</td>\n",
       "      <td>0.213851</td>\n",
       "      <td>0.604797</td>\n",
       "      <td>0.00</td>\n",
       "      <td>0.00</td>\n",
       "      <td>0.00</td>\n",
       "      <td>0.00</td>\n",
       "      <td>86.00</td>\n",
       "    </tr>\n",
       "  </tbody>\n",
       "</table>\n",
       "</div>"
      ],
      "text/plain": [
       "                     count          mean           std      min       25%  \\\n",
       "loan_amnt        1228126.0  14705.168912   8763.735751  1000.00   8000.00   \n",
       "int_rate         1228126.0     13.270808      4.794273     5.31      9.75   \n",
       "default_logit    1228126.0      0.197068      0.397784     0.00      0.00   \n",
       "emp_length       1228126.0      5.997097      3.690814     0.00      3.00   \n",
       "annual_inc       1228126.0  78160.485692  71272.694759     0.00  48000.00   \n",
       "issue_yr         1228126.0   2015.097067      1.439194  2012.00   2014.00   \n",
       "mort_acc         1220893.0      1.663097      1.996105     0.00      0.00   \n",
       "fico_range_low   1228126.0    695.540714     31.349915   660.00    670.00   \n",
       "fico_range_high  1228126.0    699.540844     31.350538   664.00    674.00   \n",
       "pub_rec          1228126.0      0.213851      0.604797     0.00      0.00   \n",
       "\n",
       "                      50%       75%          max  \n",
       "loan_amnt        12500.00  20000.00     40000.00  \n",
       "int_rate            12.74     16.02        30.99  \n",
       "default_logit        0.00      0.00         1.00  \n",
       "emp_length           6.00     10.00        10.00  \n",
       "annual_inc       65000.00  93000.00  10999200.00  \n",
       "issue_yr          2015.00   2016.00      2018.00  \n",
       "mort_acc             1.00      3.00        51.00  \n",
       "fico_range_low     690.00    710.00       845.00  \n",
       "fico_range_high    694.00    714.00       850.00  \n",
       "pub_rec              0.00      0.00        86.00  "
      ]
     },
     "execution_count": 55,
     "metadata": {},
     "output_type": "execute_result"
    }
   ],
   "source": [
    "final_accepted_data.describe().transpose()"
   ]
  },
  {
   "cell_type": "markdown",
   "metadata": {},
   "source": [
    "**Regression**"
   ]
  },
  {
   "cell_type": "code",
   "execution_count": 57,
   "metadata": {},
   "outputs": [
    {
     "data": {
      "text/plain": [
       "Index(['loan_amnt', 'term', 'int_rate', 'default_logit', 'grade', 'emp_length',\n",
       "       'annual_inc', 'home_ownership', 'verification_status', 'purpose',\n",
       "       'issue_yr', 'mort_acc', 'fico_range_low', 'fico_range_high', 'pub_rec'],\n",
       "      dtype='object')"
      ]
     },
     "execution_count": 57,
     "metadata": {},
     "output_type": "execute_result"
    }
   ],
   "source": [
    "final_accepted_data.columns"
   ]
  },
  {
   "cell_type": "code",
   "execution_count": 58,
   "metadata": {},
   "outputs": [
    {
     "name": "stdout",
     "output_type": "stream",
     "text": [
      "(1228126, 39)\n",
      "(1220893, 39)\n"
     ]
    }
   ],
   "source": [
    "# creating dummy variables for categorical variables\n",
    "dummies_df_accepted_data = pd.get_dummies(final_accepted_data, columns=['grade','term', 'home_ownership', 'verification_status',\n",
    "                                                                        'purpose'])\n",
    "dummies_df_accepted_data.head()\n",
    "print(dummies_df_accepted_data.shape)\n",
    "dummies_df_accepted_data = dummies_df_accepted_data.dropna()\n",
    "print(dummies_df_accepted_data.shape)"
   ]
  },
  {
   "cell_type": "code",
   "execution_count": 59,
   "metadata": {},
   "outputs": [
    {
     "data": {
      "text/plain": [
       "array([2018], dtype=int64)"
      ]
     },
     "execution_count": 59,
     "metadata": {},
     "output_type": "execute_result"
    }
   ],
   "source": [
    "# Splitting the data into 2 parts as 2012-2017 (training period) & 2018 (testing period)\n",
    "is_2018 = dummies_df_accepted_data['issue_yr'] == 2018\n",
    "testing_df_2018 = dummies_df_accepted_data[is_2018]\n",
    "# testing_df_2018.head()\n",
    "testing_df_2018.issue_yr.unique()"
   ]
  },
  {
   "cell_type": "code",
   "execution_count": 60,
   "metadata": {},
   "outputs": [
    {
     "data": {
      "text/plain": [
       "array([2015, 2017, 2016, 2014, 2013, 2012], dtype=int64)"
      ]
     },
     "execution_count": 60,
     "metadata": {},
     "output_type": "execute_result"
    }
   ],
   "source": [
    "is_2012_to_2017 =  [not i for i in is_2018]\n",
    "training_df_2012_to_2017 = dummies_df_accepted_data[is_2012_to_2017]\n",
    "training_df_2012_to_2017.issue_yr.unique()"
   ]
  },
  {
   "cell_type": "code",
   "execution_count": 61,
   "metadata": {},
   "outputs": [],
   "source": [
    "training_df_2012_to_2017 = training_df_2012_to_2017.drop(['issue_yr'], axis = 1)\n",
    "testing_df_2018 = testing_df_2018.drop(['issue_yr'], axis = 1)"
   ]
  },
  {
   "cell_type": "code",
   "execution_count": 62,
   "metadata": {},
   "outputs": [
    {
     "name": "stdout",
     "output_type": "stream",
     "text": [
      "0    936339\n",
      "1    233170\n",
      "Name: default_logit, dtype: int64\n"
     ]
    },
    {
     "data": {
      "image/png": "[encoded data removed]",
      "text/plain": [
       "<Figure size 720x360 with 1 Axes>"
      ]
     },
     "metadata": {
      "needs_background": "light"
     },
     "output_type": "display_data"
    }
   ],
   "source": [
    "# REBALANCING\n",
    "# default_logit count chart\n",
    "import matplotlib.pyplot as plt\n",
    "default_logit_count = training_df_2012_to_2017['default_logit'].value_counts()\n",
    "print(default_logit_count)\n",
    "ax = default_logit_count.plot(kind='bar', title =\"Default Logit count chart\", figsize=(10, 5), legend=True, fontsize=15)\n",
    "ax.set_xlabel(\"Logistic Default Pattern\", fontsize=12)\n",
    "plt.show()"
   ]
  },
  {
   "cell_type": "code",
   "execution_count": 64,
   "metadata": {},
   "outputs": [],
   "source": [
    "# creating x & y variables for training and testing of models for both the datasets\n",
    "\n",
    "X_train_2012_to_2017 = training_df_2012_to_2017.loc[:, training_df_2012_to_2017.columns != 'default_logit']\n",
    "y_train_2012_to_2017 = training_df_2012_to_2017.loc[:, training_df_2012_to_2017.columns == 'default_logit']\n",
    "X_test_2018 = testing_df_2018.loc[:, testing_df_2018.columns != 'default_logit']\n",
    "y_test_2018 = testing_df_2018.loc[:, testing_df_2018.columns == 'default_logit']"
   ]
  },
  {
   "cell_type": "markdown",
   "metadata": {},
   "source": [
    "With our training data created, I’ll up-sample the no-subscription using the SMOTE. It works by creating synthetic samples from the minor class (default) instead of creating copies."
   ]
  },
  {
   "cell_type": "code",
   "execution_count": 66,
   "metadata": {},
   "outputs": [
    {
     "name": "stdout",
     "output_type": "stream",
     "text": [
      "Length of oversampled data is  1872678\n",
      "Number of no default in oversampled data 936339\n",
      "Number of default 936339\n",
      "Proportion of no default data in oversampled data is  0.5\n",
      "Proportion of default data in oversampled data is  0.5\n"
     ]
    }
   ],
   "source": [
    "# Rebalancing using SMOTE\n",
    "os = SMOTE(random_state=0)\n",
    "# X_train, X_test, y_train, y_test = train_test_split(X, y, test_size=0.3, random_state=0)\n",
    "columns = X_train_2012_to_2017.columns\n",
    "os_data_X, os_data_y=os.fit_sample(X_train_2012_to_2017, y_train_2012_to_2017)\n",
    "os_data_X = pd.DataFrame(data=os_data_X,columns=columns)\n",
    "os_data_y= pd.DataFrame(data=os_data_y, columns=['default_logit'])\n",
    "# we can Check the numbers of our data\n",
    "print(\"Length of oversampled data is \",len(os_data_X))\n",
    "print(\"Number of no default in oversampled data\",len(os_data_y[os_data_y['default_logit']==0]))\n",
    "print(\"Number of default\",len(os_data_y[os_data_y['default_logit']==1]))\n",
    "print(\"Proportion of no default data in oversampled data is \",len(os_data_y[os_data_y['default_logit']==0])/len(os_data_X))\n",
    "print(\"Proportion of default data in oversampled data is \",len(os_data_y[os_data_y['default_logit']==1])/len(os_data_X))"
   ]
  },
  {
   "cell_type": "markdown",
   "metadata": {},
   "source": [
    "Now I have a perfect balanced data! It can be noticed that I over-sampled only on the training data, because by oversampling only on the training data, none of the information in the test data is being used to create synthetic observations, therefore, no information will bleed from test data into the model training."
   ]
  },
  {
   "cell_type": "markdown",
   "metadata": {},
   "source": [
    "**Recursive Feature Elimination**"
   ]
  },
  {
   "cell_type": "markdown",
   "metadata": {},
   "source": [
    "Recursive Feature Elimination (RFE) is based on the idea to repeatedly construct a model and choose either the best or worst performing feature, setting the feature aside and then repeating the process with the rest of the features. This process is applied until all features in the dataset are exhausted. The goal of RFE is to select features by recursively considering smaller and smaller sets of features."
   ]
  },
  {
   "cell_type": "code",
   "execution_count": 68,
   "metadata": {},
   "outputs": [
    {
     "name": "stdout",
     "output_type": "stream",
     "text": [
      "[False False False False False  True  True False  True  True  True  True\n",
      " False  True False  True  True  True  True  True  True  True  True  True\n",
      "  True  True False  True False  True  True  True  True False  True  True\n",
      " False]\n",
      "[10  8  9 11  6  1  1  5  1  1  1  1 12  1  3  1  1  1  1  1  1  1  1  1\n",
      "  1  1 13  1  2  1  1  1  1  7  1  1  4]\n"
     ]
    }
   ],
   "source": [
    "# feature elimination\n",
    "from sklearn.feature_selection import RFE\n",
    "\n",
    "logreg = LogisticRegression()\n",
    "\n",
    "rfe = RFE(logreg, 25)\n",
    "rfe = rfe.fit(os_data_X, os_data_y.values.ravel())\n",
    "print(rfe.support_)\n",
    "print(rfe.ranking_)\n"
   ]
  },
  {
   "cell_type": "code",
   "execution_count": 70,
   "metadata": {},
   "outputs": [
    {
     "name": "stdout",
     "output_type": "stream",
     "text": [
      "['fico_range_low', 'fico_range_high', 'grade_A', 'grade_B', 'grade_C', 'grade_D', 'grade_F', 'term_36', 'term_60', 'home_ownership_MORTGAGE', 'home_ownership_OWN', 'home_ownership_RENT', 'verification_status_Not Verified', 'verification_status_Source Verified', 'verification_status_Verified', 'purpose_car', 'purpose_credit_card', 'purpose_debt_consolidation', 'purpose_home_improvement', 'purpose_major_purchase', 'purpose_medical', 'purpose_moving', 'purpose_other', 'purpose_small_business', 'purpose_vacation', 'loan_amnt', 'int_rate']\n",
      "27\n"
     ]
    }
   ],
   "source": [
    "target_col = []\n",
    "for col, ranking in zip(columns, rfe.ranking_):\n",
    "    if ranking == 1:\n",
    "        target_col.append(col)\n",
    "\n",
    "# Adding other columns\n",
    "target_col.extend(['loan_amnt', 'int_rate'])\n",
    "print(target_col)\n",
    "print(len(target_col))"
   ]
  },
  {
   "cell_type": "code",
   "execution_count": 71,
   "metadata": {},
   "outputs": [],
   "source": [
    "final_os_data_X = os_data_X[target_col]\n",
    "final_X_test_2018 = X_test_2018[target_col]"
   ]
  },
  {
   "cell_type": "code",
   "execution_count": 72,
   "metadata": {},
   "outputs": [
    {
     "data": {
      "text/plain": [
       "LogisticRegression()"
      ]
     },
     "execution_count": 72,
     "metadata": {},
     "output_type": "execute_result"
    }
   ],
   "source": [
    "# training the logistic model\n",
    "logistic_reg = LogisticRegression()\n",
    "logistic_reg.fit(final_os_data_X, os_data_y)"
   ]
  },
  {
   "cell_type": "code",
   "execution_count": 73,
   "metadata": {},
   "outputs": [
    {
     "name": "stdout",
     "output_type": "stream",
     "text": [
      "[[-6.01082357e-02  6.59002698e-02 -7.24831940e-01 -1.16094303e+00\n",
      "  -9.14533363e-01 -8.61929279e-01 -2.24946611e-01 -1.72301273e+00\n",
      "  -3.64125936e-01 -2.21558353e+00 -6.27963302e-01 -8.70880052e-01\n",
      "  -1.46761319e+00 -1.33125759e+00 -1.42563262e+00 -6.79549597e-02\n",
      "  -1.12756153e+00 -1.43573440e+00 -4.19701484e-01 -1.30709632e-01\n",
      "  -7.46807379e-02 -5.03212106e-02 -3.83772792e-01 -7.28954199e-02\n",
      "  -4.58774109e-02  9.34810968e-07  6.75865433e-02]]\n",
      "[0.03152347]\n"
     ]
    }
   ],
   "source": [
    "print(logistic_reg.coef_)\n",
    "print(logistic_reg.intercept_)"
   ]
  },
  {
   "cell_type": "code",
   "execution_count": 74,
   "metadata": {},
   "outputs": [
    {
     "name": "stdout",
     "output_type": "stream",
     "text": [
      "Accuracy of logistic regression on test set of 2018: 0.73\n"
     ]
    }
   ],
   "source": [
    "# predicting/testing the data for 2018 based on the model & getting the accuracy score\n",
    "y_pred_2018 = logistic_reg.predict(final_X_test_2018)\n",
    "print('Accuracy of logistic regression on test set of 2018: {:.2f}'.format(logistic_reg.score(final_X_test_2018, y_test_2018)))"
   ]
  },
  {
   "cell_type": "code",
   "execution_count": 75,
   "metadata": {},
   "outputs": [
    {
     "name": "stdout",
     "output_type": "stream",
     "text": [
      "[[34295  9399]\n",
      " [ 4566  3124]]\n"
     ]
    }
   ],
   "source": [
    "from sklearn.metrics import confusion_matrix\n",
    "# creating a confusion matrix to check for false/true positives/negatives\n",
    "confusion_matrix = confusion_matrix(y_test_2018, y_pred_2018)\n",
    "print(confusion_matrix)"
   ]
  },
  {
   "cell_type": "code",
   "execution_count": 76,
   "metadata": {},
   "outputs": [
    {
     "name": "stdout",
     "output_type": "stream",
     "text": [
      "              precision    recall  f1-score   support\n",
      "\n",
      "           0       0.88      0.78      0.83     43694\n",
      "           1       0.25      0.41      0.31      7690\n",
      "\n",
      "    accuracy                           0.73     51384\n",
      "   macro avg       0.57      0.60      0.57     51384\n",
      "weighted avg       0.79      0.73      0.75     51384\n",
      "\n"
     ]
    }
   ],
   "source": [
    "# extracting the summary report for the model\n",
    "print(classification_report(y_test_2018, y_pred_2018))"
   ]
  },
  {
   "cell_type": "code",
   "execution_count": 77,
   "metadata": {},
   "outputs": [
    {
     "data": {
      "text/plain": [
       "0.08348699858360725"
      ]
     },
     "execution_count": 77,
     "metadata": {},
     "output_type": "execute_result"
    }
   ],
   "source": [
    "# default percentage\n",
    "confusion_matrix[1][1]/(confusion_matrix[0][0] + confusion_matrix[1][1])"
   ]
  },
  {
   "cell_type": "markdown",
   "metadata": {},
   "source": [
    "## Part IV"
   ]
  },
  {
   "cell_type": "code",
   "execution_count": 78,
   "metadata": {},
   "outputs": [
    {
     "data": {
      "text/html": [
       "<div>\n",
       "<style scoped>\n",
       "    .dataframe tbody tr th:only-of-type {\n",
       "        vertical-align: middle;\n",
       "    }\n",
       "\n",
       "    .dataframe tbody tr th {\n",
       "        vertical-align: top;\n",
       "    }\n",
       "\n",
       "    .dataframe thead th {\n",
       "        text-align: right;\n",
       "    }\n",
       "</style>\n",
       "<table border=\"1\" class=\"dataframe\">\n",
       "  <thead>\n",
       "    <tr style=\"text-align: right;\">\n",
       "      <th></th>\n",
       "      <th>loan_amnt</th>\n",
       "      <th>term</th>\n",
       "      <th>int_rate</th>\n",
       "      <th>default_logit</th>\n",
       "      <th>grade</th>\n",
       "      <th>emp_length</th>\n",
       "      <th>annual_inc</th>\n",
       "      <th>home_ownership</th>\n",
       "      <th>verification_status</th>\n",
       "      <th>purpose</th>\n",
       "      <th>issue_yr</th>\n",
       "      <th>total_rec_prncp</th>\n",
       "      <th>funded_amnt</th>\n",
       "      <th>last_pymnt_d</th>\n",
       "      <th>issue_d</th>\n",
       "      <th>total_rec_int</th>\n",
       "      <th>total_pymnt</th>\n",
       "      <th>installment</th>\n",
       "      <th>last_pymnt_amnt</th>\n",
       "    </tr>\n",
       "  </thead>\n",
       "  <tbody>\n",
       "    <tr>\n",
       "      <th>0</th>\n",
       "      <td>3600.0</td>\n",
       "      <td>36</td>\n",
       "      <td>13.99</td>\n",
       "      <td>0</td>\n",
       "      <td>C</td>\n",
       "      <td>10</td>\n",
       "      <td>55000.0</td>\n",
       "      <td>MORTGAGE</td>\n",
       "      <td>Not Verified</td>\n",
       "      <td>debt_consolidation</td>\n",
       "      <td>2015</td>\n",
       "      <td>3600.0</td>\n",
       "      <td>3600.0</td>\n",
       "      <td>Jan-2019</td>\n",
       "      <td>2015-12-01</td>\n",
       "      <td>821.72</td>\n",
       "      <td>4421.723917</td>\n",
       "      <td>123.03</td>\n",
       "      <td>122.67</td>\n",
       "    </tr>\n",
       "    <tr>\n",
       "      <th>1</th>\n",
       "      <td>24700.0</td>\n",
       "      <td>36</td>\n",
       "      <td>11.99</td>\n",
       "      <td>0</td>\n",
       "      <td>C</td>\n",
       "      <td>10</td>\n",
       "      <td>65000.0</td>\n",
       "      <td>MORTGAGE</td>\n",
       "      <td>Not Verified</td>\n",
       "      <td>small_business</td>\n",
       "      <td>2015</td>\n",
       "      <td>24700.0</td>\n",
       "      <td>24700.0</td>\n",
       "      <td>Jun-2016</td>\n",
       "      <td>2015-12-01</td>\n",
       "      <td>979.66</td>\n",
       "      <td>25679.660000</td>\n",
       "      <td>820.28</td>\n",
       "      <td>926.35</td>\n",
       "    </tr>\n",
       "    <tr>\n",
       "      <th>2</th>\n",
       "      <td>20000.0</td>\n",
       "      <td>60</td>\n",
       "      <td>10.78</td>\n",
       "      <td>0</td>\n",
       "      <td>B</td>\n",
       "      <td>10</td>\n",
       "      <td>63000.0</td>\n",
       "      <td>MORTGAGE</td>\n",
       "      <td>Not Verified</td>\n",
       "      <td>home_improvement</td>\n",
       "      <td>2015</td>\n",
       "      <td>20000.0</td>\n",
       "      <td>20000.0</td>\n",
       "      <td>Jun-2017</td>\n",
       "      <td>2015-12-01</td>\n",
       "      <td>2705.92</td>\n",
       "      <td>22705.924294</td>\n",
       "      <td>432.66</td>\n",
       "      <td>15813.30</td>\n",
       "    </tr>\n",
       "    <tr>\n",
       "      <th>4</th>\n",
       "      <td>10400.0</td>\n",
       "      <td>60</td>\n",
       "      <td>22.45</td>\n",
       "      <td>0</td>\n",
       "      <td>F</td>\n",
       "      <td>3</td>\n",
       "      <td>104433.0</td>\n",
       "      <td>MORTGAGE</td>\n",
       "      <td>Source Verified</td>\n",
       "      <td>major_purchase</td>\n",
       "      <td>2015</td>\n",
       "      <td>10400.0</td>\n",
       "      <td>10400.0</td>\n",
       "      <td>Jul-2016</td>\n",
       "      <td>2015-12-01</td>\n",
       "      <td>1340.50</td>\n",
       "      <td>11740.500000</td>\n",
       "      <td>289.91</td>\n",
       "      <td>10128.96</td>\n",
       "    </tr>\n",
       "    <tr>\n",
       "      <th>5</th>\n",
       "      <td>11950.0</td>\n",
       "      <td>36</td>\n",
       "      <td>13.44</td>\n",
       "      <td>0</td>\n",
       "      <td>C</td>\n",
       "      <td>4</td>\n",
       "      <td>34000.0</td>\n",
       "      <td>RENT</td>\n",
       "      <td>Source Verified</td>\n",
       "      <td>debt_consolidation</td>\n",
       "      <td>2015</td>\n",
       "      <td>11950.0</td>\n",
       "      <td>11950.0</td>\n",
       "      <td>May-2017</td>\n",
       "      <td>2015-12-01</td>\n",
       "      <td>1758.95</td>\n",
       "      <td>13708.948530</td>\n",
       "      <td>405.18</td>\n",
       "      <td>7653.56</td>\n",
       "    </tr>\n",
       "  </tbody>\n",
       "</table>\n",
       "</div>"
      ],
      "text/plain": [
       "   loan_amnt term  int_rate  default_logit grade  emp_length  annual_inc  \\\n",
       "0     3600.0   36     13.99              0     C          10     55000.0   \n",
       "1    24700.0   36     11.99              0     C          10     65000.0   \n",
       "2    20000.0   60     10.78              0     B          10     63000.0   \n",
       "4    10400.0   60     22.45              0     F           3    104433.0   \n",
       "5    11950.0   36     13.44              0     C           4     34000.0   \n",
       "\n",
       "  home_ownership verification_status             purpose  issue_yr  \\\n",
       "0       MORTGAGE        Not Verified  debt_consolidation      2015   \n",
       "1       MORTGAGE        Not Verified      small_business      2015   \n",
       "2       MORTGAGE        Not Verified    home_improvement      2015   \n",
       "4       MORTGAGE     Source Verified      major_purchase      2015   \n",
       "5           RENT     Source Verified  debt_consolidation      2015   \n",
       "\n",
       "   total_rec_prncp  funded_amnt last_pymnt_d    issue_d  total_rec_int  \\\n",
       "0           3600.0       3600.0     Jan-2019 2015-12-01         821.72   \n",
       "1          24700.0      24700.0     Jun-2016 2015-12-01         979.66   \n",
       "2          20000.0      20000.0     Jun-2017 2015-12-01        2705.92   \n",
       "4          10400.0      10400.0     Jul-2016 2015-12-01        1340.50   \n",
       "5          11950.0      11950.0     May-2017 2015-12-01        1758.95   \n",
       "\n",
       "    total_pymnt  installment  last_pymnt_amnt  \n",
       "0   4421.723917       123.03           122.67  \n",
       "1  25679.660000       820.28           926.35  \n",
       "2  22705.924294       432.66         15813.30  \n",
       "4  11740.500000       289.91         10128.96  \n",
       "5  13708.948530       405.18          7653.56  "
      ]
     },
     "execution_count": 78,
     "metadata": {},
     "output_type": "execute_result"
    }
   ],
   "source": [
    "loan_portfolio_analysis_df = accepted_data[loan_analysis_columns]\n",
    "loan_portfolio_analysis_df.head()"
   ]
  },
  {
   "cell_type": "code",
   "execution_count": 79,
   "metadata": {},
   "outputs": [],
   "source": [
    "loan_portfolio_analysis_df['last_pymnt_d']= pd.to_datetime(loan_portfolio_analysis_df['last_pymnt_d'])"
   ]
  },
  {
   "cell_type": "code",
   "execution_count": 80,
   "metadata": {},
   "outputs": [
    {
     "data": {
      "text/html": [
       "<div>\n",
       "<style scoped>\n",
       "    .dataframe tbody tr th:only-of-type {\n",
       "        vertical-align: middle;\n",
       "    }\n",
       "\n",
       "    .dataframe tbody tr th {\n",
       "        vertical-align: top;\n",
       "    }\n",
       "\n",
       "    .dataframe thead th {\n",
       "        text-align: right;\n",
       "    }\n",
       "</style>\n",
       "<table border=\"1\" class=\"dataframe\">\n",
       "  <thead>\n",
       "    <tr style=\"text-align: right;\">\n",
       "      <th></th>\n",
       "      <th>loan_amnt</th>\n",
       "      <th>term</th>\n",
       "      <th>int_rate</th>\n",
       "      <th>default_logit</th>\n",
       "      <th>grade</th>\n",
       "      <th>emp_length</th>\n",
       "      <th>annual_inc</th>\n",
       "      <th>home_ownership</th>\n",
       "      <th>verification_status</th>\n",
       "      <th>purpose</th>\n",
       "      <th>issue_yr</th>\n",
       "      <th>total_rec_prncp</th>\n",
       "      <th>funded_amnt</th>\n",
       "      <th>last_pymnt_d</th>\n",
       "      <th>issue_d</th>\n",
       "      <th>total_rec_int</th>\n",
       "      <th>total_pymnt</th>\n",
       "      <th>installment</th>\n",
       "      <th>last_pymnt_amnt</th>\n",
       "      <th>term_of_payment</th>\n",
       "    </tr>\n",
       "  </thead>\n",
       "  <tbody>\n",
       "    <tr>\n",
       "      <th>0</th>\n",
       "      <td>3600.0</td>\n",
       "      <td>36</td>\n",
       "      <td>13.99</td>\n",
       "      <td>0</td>\n",
       "      <td>C</td>\n",
       "      <td>10</td>\n",
       "      <td>55000.0</td>\n",
       "      <td>MORTGAGE</td>\n",
       "      <td>Not Verified</td>\n",
       "      <td>debt_consolidation</td>\n",
       "      <td>2015</td>\n",
       "      <td>3600.0</td>\n",
       "      <td>3600.0</td>\n",
       "      <td>2019-01-01</td>\n",
       "      <td>2015-12-01</td>\n",
       "      <td>821.72</td>\n",
       "      <td>4421.723917</td>\n",
       "      <td>123.03</td>\n",
       "      <td>122.67</td>\n",
       "      <td>37.0</td>\n",
       "    </tr>\n",
       "    <tr>\n",
       "      <th>1</th>\n",
       "      <td>24700.0</td>\n",
       "      <td>36</td>\n",
       "      <td>11.99</td>\n",
       "      <td>0</td>\n",
       "      <td>C</td>\n",
       "      <td>10</td>\n",
       "      <td>65000.0</td>\n",
       "      <td>MORTGAGE</td>\n",
       "      <td>Not Verified</td>\n",
       "      <td>small_business</td>\n",
       "      <td>2015</td>\n",
       "      <td>24700.0</td>\n",
       "      <td>24700.0</td>\n",
       "      <td>2016-06-01</td>\n",
       "      <td>2015-12-01</td>\n",
       "      <td>979.66</td>\n",
       "      <td>25679.660000</td>\n",
       "      <td>820.28</td>\n",
       "      <td>926.35</td>\n",
       "      <td>6.0</td>\n",
       "    </tr>\n",
       "  </tbody>\n",
       "</table>\n",
       "</div>"
      ],
      "text/plain": [
       "   loan_amnt term  int_rate  default_logit grade  emp_length  annual_inc  \\\n",
       "0     3600.0   36     13.99              0     C          10     55000.0   \n",
       "1    24700.0   36     11.99              0     C          10     65000.0   \n",
       "\n",
       "  home_ownership verification_status             purpose  issue_yr  \\\n",
       "0       MORTGAGE        Not Verified  debt_consolidation      2015   \n",
       "1       MORTGAGE        Not Verified      small_business      2015   \n",
       "\n",
       "   total_rec_prncp  funded_amnt last_pymnt_d    issue_d  total_rec_int  \\\n",
       "0           3600.0       3600.0   2019-01-01 2015-12-01         821.72   \n",
       "1          24700.0      24700.0   2016-06-01 2015-12-01         979.66   \n",
       "\n",
       "    total_pymnt  installment  last_pymnt_amnt  term_of_payment  \n",
       "0   4421.723917       123.03           122.67             37.0  \n",
       "1  25679.660000       820.28           926.35              6.0  "
      ]
     },
     "execution_count": 80,
     "metadata": {},
     "output_type": "execute_result"
    }
   ],
   "source": [
    "loan_portfolio_analysis_df['term_of_payment'] = round(((loan_portfolio_analysis_df['last_pymnt_d'] - loan_portfolio_analysis_df['issue_d']).dt.days)*(12/365))\n",
    "loan_portfolio_analysis_df.head(2)"
   ]
  },
  {
   "cell_type": "code",
   "execution_count": 81,
   "metadata": {},
   "outputs": [],
   "source": [
    "# fully_paid_df = loan_analysis_sample.loc[loan_analysis_sample['term_of_payment'] == 36]\n",
    "# fully_paid_df"
   ]
  },
  {
   "cell_type": "code",
   "execution_count": 82,
   "metadata": {},
   "outputs": [],
   "source": [
    "# is there prepayment\n",
    "def find_preypayment(row):\n",
    "    default_logit = row['default_logit']\n",
    "    last_pymnt_d = row['last_pymnt_d']\n",
    "    issue_d = row['issue_d']\n",
    "    if row['default_logit'] == 1:\n",
    "        return 'default'\n",
    "    else:\n",
    "        d = int(((last_pymnt_d - issue_d).days)*(12/365))\n",
    "        if d < int(row['term']):\n",
    "            return 'prepayment'\n",
    "        elif d > int(row['term']):\n",
    "            return 'late payment'\n",
    "        else:\n",
    "            return 'no prepayment'\n",
    "\n",
    "loan_portfolio_analysis_df['type_of_payment'] = loan_portfolio_analysis_df.apply(find_preypayment, axis=1)"
   ]
  },
  {
   "cell_type": "code",
   "execution_count": 83,
   "metadata": {},
   "outputs": [
    {
     "data": {
      "text/html": [
       "<div>\n",
       "<style scoped>\n",
       "    .dataframe tbody tr th:only-of-type {\n",
       "        vertical-align: middle;\n",
       "    }\n",
       "\n",
       "    .dataframe tbody tr th {\n",
       "        vertical-align: top;\n",
       "    }\n",
       "\n",
       "    .dataframe thead th {\n",
       "        text-align: right;\n",
       "    }\n",
       "</style>\n",
       "<table border=\"1\" class=\"dataframe\">\n",
       "  <thead>\n",
       "    <tr style=\"text-align: right;\">\n",
       "      <th></th>\n",
       "      <th>loan_amnt</th>\n",
       "      <th>term</th>\n",
       "      <th>int_rate</th>\n",
       "      <th>default_logit</th>\n",
       "      <th>grade</th>\n",
       "      <th>emp_length</th>\n",
       "      <th>annual_inc</th>\n",
       "      <th>home_ownership</th>\n",
       "      <th>verification_status</th>\n",
       "      <th>purpose</th>\n",
       "      <th>...</th>\n",
       "      <th>total_rec_prncp</th>\n",
       "      <th>funded_amnt</th>\n",
       "      <th>last_pymnt_d</th>\n",
       "      <th>issue_d</th>\n",
       "      <th>total_rec_int</th>\n",
       "      <th>total_pymnt</th>\n",
       "      <th>installment</th>\n",
       "      <th>last_pymnt_amnt</th>\n",
       "      <th>term_of_payment</th>\n",
       "      <th>type_of_payment</th>\n",
       "    </tr>\n",
       "  </thead>\n",
       "  <tbody>\n",
       "    <tr>\n",
       "      <th>0</th>\n",
       "      <td>3600.0</td>\n",
       "      <td>36</td>\n",
       "      <td>13.99</td>\n",
       "      <td>0</td>\n",
       "      <td>C</td>\n",
       "      <td>10</td>\n",
       "      <td>55000.0</td>\n",
       "      <td>MORTGAGE</td>\n",
       "      <td>Not Verified</td>\n",
       "      <td>debt_consolidation</td>\n",
       "      <td>...</td>\n",
       "      <td>3600.0</td>\n",
       "      <td>3600.0</td>\n",
       "      <td>2019-01-01</td>\n",
       "      <td>2015-12-01</td>\n",
       "      <td>821.72</td>\n",
       "      <td>4421.723917</td>\n",
       "      <td>123.03</td>\n",
       "      <td>122.67</td>\n",
       "      <td>37.0</td>\n",
       "      <td>late payment</td>\n",
       "    </tr>\n",
       "    <tr>\n",
       "      <th>1</th>\n",
       "      <td>24700.0</td>\n",
       "      <td>36</td>\n",
       "      <td>11.99</td>\n",
       "      <td>0</td>\n",
       "      <td>C</td>\n",
       "      <td>10</td>\n",
       "      <td>65000.0</td>\n",
       "      <td>MORTGAGE</td>\n",
       "      <td>Not Verified</td>\n",
       "      <td>small_business</td>\n",
       "      <td>...</td>\n",
       "      <td>24700.0</td>\n",
       "      <td>24700.0</td>\n",
       "      <td>2016-06-01</td>\n",
       "      <td>2015-12-01</td>\n",
       "      <td>979.66</td>\n",
       "      <td>25679.660000</td>\n",
       "      <td>820.28</td>\n",
       "      <td>926.35</td>\n",
       "      <td>6.0</td>\n",
       "      <td>prepayment</td>\n",
       "    </tr>\n",
       "  </tbody>\n",
       "</table>\n",
       "<p>2 rows × 21 columns</p>\n",
       "</div>"
      ],
      "text/plain": [
       "   loan_amnt term  int_rate  default_logit grade  emp_length  annual_inc  \\\n",
       "0     3600.0   36     13.99              0     C          10     55000.0   \n",
       "1    24700.0   36     11.99              0     C          10     65000.0   \n",
       "\n",
       "  home_ownership verification_status             purpose  ...  \\\n",
       "0       MORTGAGE        Not Verified  debt_consolidation  ...   \n",
       "1       MORTGAGE        Not Verified      small_business  ...   \n",
       "\n",
       "   total_rec_prncp  funded_amnt  last_pymnt_d    issue_d total_rec_int  \\\n",
       "0           3600.0       3600.0    2019-01-01 2015-12-01        821.72   \n",
       "1          24700.0      24700.0    2016-06-01 2015-12-01        979.66   \n",
       "\n",
       "    total_pymnt  installment  last_pymnt_amnt  term_of_payment  \\\n",
       "0   4421.723917       123.03           122.67             37.0   \n",
       "1  25679.660000       820.28           926.35              6.0   \n",
       "\n",
       "   type_of_payment  \n",
       "0     late payment  \n",
       "1       prepayment  \n",
       "\n",
       "[2 rows x 21 columns]"
      ]
     },
     "execution_count": 83,
     "metadata": {},
     "output_type": "execute_result"
    }
   ],
   "source": [
    "loan_portfolio_analysis_df.head(2)\n",
    "# loan_portfolio_analysis_df.columns"
   ]
  },
  {
   "cell_type": "code",
   "execution_count": 84,
   "metadata": {},
   "outputs": [
    {
     "data": {
      "image/png": "[encoded data removed]",
      "text/plain": [
       "<Figure size 504x288 with 1 Axes>"
      ]
     },
     "metadata": {
      "needs_background": "light"
     },
     "output_type": "display_data"
    }
   ],
   "source": [
    "# loans based on types of payment\n",
    "ax = loan_portfolio_analysis_df['type_of_payment'].value_counts().plot(kind='bar', title =\"Number of loans based on category of payment\",\n",
    "                                                                       figsize=(7, 4), legend=True, fontsize=10)\n",
    "ax.set_xlabel(\"Category of payment\", fontsize=12)\n",
    "total = len(loan_portfolio_analysis_df['type_of_payment'])\n",
    "# for p in ax.patches:\n",
    "#         percentage = '{:.1f}%'.format(100 * p.get_width()/total)\n",
    "#         x = p.get_x() + p.get_width() + 0.02\n",
    "#         y = p.get_y() + p.get_height()/2\n",
    "#         ax.annotate(percentage, (x, y))\n",
    "for p in ax.patches:\n",
    "    percentage = '{:.1f}%'.format(100 * p.get_height()/total)\n",
    "    width, height = p.get_width(), p.get_height()\n",
    "    x, y = p.get_xy() \n",
    "    ax.annotate(percentage, (x, y + height + 20))\n",
    "plt.show()"
   ]
  },
  {
   "cell_type": "code",
   "execution_count": 85,
   "metadata": {},
   "outputs": [],
   "source": [
    "# sample based on filter\n",
    "def filter_dataframe(df, column_names, column_values):\n",
    "    df2 = df.copy()\n",
    "    assert len(column_names) == len(column_values)\n",
    "    for name, value in zip(column_names, column_values):\n",
    "        df2 = df2[df2[name] == value]\n",
    "    return df2.sample(100)"
   ]
  },
  {
   "cell_type": "code",
   "execution_count": 112,
   "metadata": {},
   "outputs": [],
   "source": [
    "# filtered loan based on conditions case\n",
    "filtered_loan_analysis_sample = filter_dataframe(loan_portfolio_analysis_df,\n",
    "                                                 ['grade', 'term', 'verification_status'],\n",
    "                                                 ['A','36', 'Verified'])"
   ]
  },
  {
   "cell_type": "code",
   "execution_count": 94,
   "metadata": {},
   "outputs": [
    {
     "name": "stdout",
     "output_type": "stream",
     "text": [
      "<class 'pandas.core.frame.DataFrame'>\n",
      "Int64Index: 1228126 entries, 0 to 2260697\n",
      "Data columns (total 21 columns):\n",
      "loan_amnt              1228126 non-null float64\n",
      "term                   1228126 non-null object\n",
      "int_rate               1228126 non-null float64\n",
      "default_logit          1228126 non-null int64\n",
      "grade                  1228126 non-null object\n",
      "emp_length             1228126 non-null int64\n",
      "annual_inc             1228126 non-null float64\n",
      "home_ownership         1228126 non-null object\n",
      "verification_status    1228126 non-null object\n",
      "purpose                1228126 non-null object\n",
      "issue_yr               1228126 non-null int64\n",
      "total_rec_prncp        1228126 non-null float64\n",
      "funded_amnt            1228126 non-null float64\n",
      "last_pymnt_d           1226114 non-null datetime64[ns]\n",
      "issue_d                1228126 non-null datetime64[ns]\n",
      "total_rec_int          1228126 non-null float64\n",
      "total_pymnt            1228126 non-null float64\n",
      "installment            1228126 non-null float64\n",
      "last_pymnt_amnt        1228126 non-null float64\n",
      "term_of_payment        1226114 non-null float64\n",
      "type_of_payment        1228126 non-null object\n",
      "dtypes: datetime64[ns](2), float64(10), int64(3), object(6)\n",
      "memory usage: 206.1+ MB\n"
     ]
    }
   ],
   "source": [
    "loan_portfolio_analysis_df.info()"
   ]
  },
  {
   "cell_type": "code",
   "execution_count": 107,
   "metadata": {},
   "outputs": [],
   "source": [
    "# random 100 loans case\n",
    "loan_analysis_sample = loan_portfolio_analysis_df.sample(100)"
   ]
  },
  {
   "cell_type": "code",
   "execution_count": 108,
   "metadata": {},
   "outputs": [],
   "source": [
    "# returns\n",
    "def find_roi(row):\n",
    "    prime_rate = 3.25\n",
    "    if row['type_of_payment'] == 'no prepayment':\n",
    "        pv =  np.pv(prime_rate/1200,\n",
    "                     nper=int(row['term']),\n",
    "                     pmt=int(row['installment']),\n",
    "                     fv=0)\n",
    "        npv = -pv - row['funded_amnt']\n",
    "        ret_on_inv = (npv/row['funded_amnt'])*100\n",
    "        return ret_on_inv\n",
    "    \n",
    "    else:\n",
    "        installment = int(row['total_pymnt'])/int(row['term'])\n",
    "        pv =  np.pv(prime_rate/1200,\n",
    "                     nper=int(row['term_of_payment']),\n",
    "                     pmt=installment,\n",
    "                     fv=0)\n",
    "        npv = -pv - row['funded_amnt']\n",
    "        ret_on_inv = (npv/row['funded_amnt'])*100\n",
    "        return ret_on_inv\n",
    "    \n",
    "filtered_loan_analysis_sample['ret_on_inv'] = filtered_loan_analysis_sample.apply(find_roi, axis=1)"
   ]
  },
  {
   "cell_type": "code",
   "execution_count": 109,
   "metadata": {},
   "outputs": [
    {
     "data": {
      "text/html": [
       "<div>\n",
       "<style scoped>\n",
       "    .dataframe tbody tr th:only-of-type {\n",
       "        vertical-align: middle;\n",
       "    }\n",
       "\n",
       "    .dataframe tbody tr th {\n",
       "        vertical-align: top;\n",
       "    }\n",
       "\n",
       "    .dataframe thead th {\n",
       "        text-align: right;\n",
       "    }\n",
       "</style>\n",
       "<table border=\"1\" class=\"dataframe\">\n",
       "  <thead>\n",
       "    <tr style=\"text-align: right;\">\n",
       "      <th></th>\n",
       "      <th>grade</th>\n",
       "      <th>ret_on_inv</th>\n",
       "    </tr>\n",
       "  </thead>\n",
       "  <tbody>\n",
       "    <tr>\n",
       "      <th>0</th>\n",
       "      <td>A</td>\n",
       "      <td>5.944358</td>\n",
       "    </tr>\n",
       "  </tbody>\n",
       "</table>\n",
       "</div>"
      ],
      "text/plain": [
       "  grade  ret_on_inv\n",
       "0     A    5.944358"
      ]
     },
     "execution_count": 109,
     "metadata": {},
     "output_type": "execute_result"
    }
   ],
   "source": [
    "# average Return on investment based on conditions\n",
    "filtered_loan_analysis_sample[['ret_on_inv','grade']].groupby(['grade'], as_index=False).mean()\n"
   ]
  }
 ],
 "metadata": {
  "kernelspec": {
   "display_name": "Python 3",
   "language": "python",
   "name": "python3"
  },
  "language_info": {
   "codemirror_mode": {
    "name": "ipython",
    "version": 3
   },
   "file_extension": ".py",
   "mimetype": "text/x-python",
   "name": "python",
   "nbconvert_exporter": "python",
   "pygments_lexer": "ipython3",
   "version": "3.7.3"
  }
 },
 "nbformat": 4,
 "nbformat_minor": 2
}
